{
 "cells": [
  {
   "cell_type": "markdown",
   "id": "8a9fb407-f551-4fe6-b4fd-fa2504b12a46",
   "metadata": {},
   "source": [
    "Step 1: Load Libraries and Dependencies"
   ]
  },
  {
   "cell_type": "code",
   "execution_count": 1,
   "id": "bd50918c-bc09-44f6-aa94-07fe041ce6d0",
   "metadata": {
    "tags": []
   },
   "outputs": [],
   "source": [
    "import seaborn as sns\n",
    "import matplotlib.pyplot as plt\n",
    "import pandas as pd\n",
    "import numpy as np\n",
    "from sklearn.preprocessing import LabelEncoder, StandardScaler\n",
    "from sklearn.model_selection import train_test_split\n",
    "from sklearn.metrics import confusion_matrix, classification_report\n",
    "from sklearn.neighbors import KNeighborsClassifier"
   ]
  },
  {
   "cell_type": "markdown",
   "id": "c2f3b379-28ba-4f82-b847-6c189cb96fcf",
   "metadata": {
    "tags": []
   },
   "source": [
    "Step 2: Load the Dataset"
   ]
  },
  {
   "cell_type": "code",
   "execution_count": 2,
   "id": "b62b2a49-4fd0-46e8-8995-4f4dddd45d40",
   "metadata": {
    "tags": []
   },
   "outputs": [],
   "source": [
    "df = pd.read_csv('star_classification.csv')"
   ]
  },
  {
   "cell_type": "markdown",
   "id": "330af7e4-75b1-4f82-ad0e-612b405e8377",
   "metadata": {},
   "source": [
    "Step 3: Visualize + Familiarize with the dataset"
   ]
  },
  {
   "cell_type": "code",
   "execution_count": 3,
   "id": "cf50ee7b-5ac1-4756-aa8a-bd25d129d746",
   "metadata": {
    "tags": []
   },
   "outputs": [
    {
     "data": {
      "text/html": [
       "<div>\n",
       "<style scoped>\n",
       "    .dataframe tbody tr th:only-of-type {\n",
       "        vertical-align: middle;\n",
       "    }\n",
       "\n",
       "    .dataframe tbody tr th {\n",
       "        vertical-align: top;\n",
       "    }\n",
       "\n",
       "    .dataframe thead th {\n",
       "        text-align: right;\n",
       "    }\n",
       "</style>\n",
       "<table border=\"1\" class=\"dataframe\">\n",
       "  <thead>\n",
       "    <tr style=\"text-align: right;\">\n",
       "      <th></th>\n",
       "      <th>obj_ID</th>\n",
       "      <th>alpha</th>\n",
       "      <th>delta</th>\n",
       "      <th>u</th>\n",
       "      <th>g</th>\n",
       "      <th>r</th>\n",
       "      <th>i</th>\n",
       "      <th>z</th>\n",
       "      <th>run_ID</th>\n",
       "      <th>rerun_ID</th>\n",
       "      <th>cam_col</th>\n",
       "      <th>field_ID</th>\n",
       "      <th>spec_obj_ID</th>\n",
       "      <th>class</th>\n",
       "      <th>redshift</th>\n",
       "      <th>plate</th>\n",
       "      <th>MJD</th>\n",
       "      <th>fiber_ID</th>\n",
       "    </tr>\n",
       "  </thead>\n",
       "  <tbody>\n",
       "    <tr>\n",
       "      <th>0</th>\n",
       "      <td>1.237661e+18</td>\n",
       "      <td>135.689107</td>\n",
       "      <td>32.494632</td>\n",
       "      <td>23.87882</td>\n",
       "      <td>22.27530</td>\n",
       "      <td>20.39501</td>\n",
       "      <td>19.16573</td>\n",
       "      <td>18.79371</td>\n",
       "      <td>3606</td>\n",
       "      <td>301</td>\n",
       "      <td>2</td>\n",
       "      <td>79</td>\n",
       "      <td>6.543777e+18</td>\n",
       "      <td>GALAXY</td>\n",
       "      <td>0.634794</td>\n",
       "      <td>5812</td>\n",
       "      <td>56354</td>\n",
       "      <td>171</td>\n",
       "    </tr>\n",
       "    <tr>\n",
       "      <th>1</th>\n",
       "      <td>1.237665e+18</td>\n",
       "      <td>144.826101</td>\n",
       "      <td>31.274185</td>\n",
       "      <td>24.77759</td>\n",
       "      <td>22.83188</td>\n",
       "      <td>22.58444</td>\n",
       "      <td>21.16812</td>\n",
       "      <td>21.61427</td>\n",
       "      <td>4518</td>\n",
       "      <td>301</td>\n",
       "      <td>5</td>\n",
       "      <td>119</td>\n",
       "      <td>1.176014e+19</td>\n",
       "      <td>GALAXY</td>\n",
       "      <td>0.779136</td>\n",
       "      <td>10445</td>\n",
       "      <td>58158</td>\n",
       "      <td>427</td>\n",
       "    </tr>\n",
       "    <tr>\n",
       "      <th>2</th>\n",
       "      <td>1.237661e+18</td>\n",
       "      <td>142.188790</td>\n",
       "      <td>35.582444</td>\n",
       "      <td>25.26307</td>\n",
       "      <td>22.66389</td>\n",
       "      <td>20.60976</td>\n",
       "      <td>19.34857</td>\n",
       "      <td>18.94827</td>\n",
       "      <td>3606</td>\n",
       "      <td>301</td>\n",
       "      <td>2</td>\n",
       "      <td>120</td>\n",
       "      <td>5.152200e+18</td>\n",
       "      <td>GALAXY</td>\n",
       "      <td>0.644195</td>\n",
       "      <td>4576</td>\n",
       "      <td>55592</td>\n",
       "      <td>299</td>\n",
       "    </tr>\n",
       "    <tr>\n",
       "      <th>3</th>\n",
       "      <td>1.237663e+18</td>\n",
       "      <td>338.741038</td>\n",
       "      <td>-0.402828</td>\n",
       "      <td>22.13682</td>\n",
       "      <td>23.77656</td>\n",
       "      <td>21.61162</td>\n",
       "      <td>20.50454</td>\n",
       "      <td>19.25010</td>\n",
       "      <td>4192</td>\n",
       "      <td>301</td>\n",
       "      <td>3</td>\n",
       "      <td>214</td>\n",
       "      <td>1.030107e+19</td>\n",
       "      <td>GALAXY</td>\n",
       "      <td>0.932346</td>\n",
       "      <td>9149</td>\n",
       "      <td>58039</td>\n",
       "      <td>775</td>\n",
       "    </tr>\n",
       "    <tr>\n",
       "      <th>4</th>\n",
       "      <td>1.237680e+18</td>\n",
       "      <td>345.282593</td>\n",
       "      <td>21.183866</td>\n",
       "      <td>19.43718</td>\n",
       "      <td>17.58028</td>\n",
       "      <td>16.49747</td>\n",
       "      <td>15.97711</td>\n",
       "      <td>15.54461</td>\n",
       "      <td>8102</td>\n",
       "      <td>301</td>\n",
       "      <td>3</td>\n",
       "      <td>137</td>\n",
       "      <td>6.891865e+18</td>\n",
       "      <td>GALAXY</td>\n",
       "      <td>0.116123</td>\n",
       "      <td>6121</td>\n",
       "      <td>56187</td>\n",
       "      <td>842</td>\n",
       "    </tr>\n",
       "  </tbody>\n",
       "</table>\n",
       "</div>"
      ],
      "text/plain": [
       "         obj_ID       alpha      delta         u         g         r  \\\n",
       "0  1.237661e+18  135.689107  32.494632  23.87882  22.27530  20.39501   \n",
       "1  1.237665e+18  144.826101  31.274185  24.77759  22.83188  22.58444   \n",
       "2  1.237661e+18  142.188790  35.582444  25.26307  22.66389  20.60976   \n",
       "3  1.237663e+18  338.741038  -0.402828  22.13682  23.77656  21.61162   \n",
       "4  1.237680e+18  345.282593  21.183866  19.43718  17.58028  16.49747   \n",
       "\n",
       "          i         z  run_ID  rerun_ID  cam_col  field_ID   spec_obj_ID  \\\n",
       "0  19.16573  18.79371    3606       301        2        79  6.543777e+18   \n",
       "1  21.16812  21.61427    4518       301        5       119  1.176014e+19   \n",
       "2  19.34857  18.94827    3606       301        2       120  5.152200e+18   \n",
       "3  20.50454  19.25010    4192       301        3       214  1.030107e+19   \n",
       "4  15.97711  15.54461    8102       301        3       137  6.891865e+18   \n",
       "\n",
       "    class  redshift  plate    MJD  fiber_ID  \n",
       "0  GALAXY  0.634794   5812  56354       171  \n",
       "1  GALAXY  0.779136  10445  58158       427  \n",
       "2  GALAXY  0.644195   4576  55592       299  \n",
       "3  GALAXY  0.932346   9149  58039       775  \n",
       "4  GALAXY  0.116123   6121  56187       842  "
      ]
     },
     "execution_count": 3,
     "metadata": {},
     "output_type": "execute_result"
    }
   ],
   "source": [
    "df.head(5)"
   ]
  },
  {
   "cell_type": "code",
   "execution_count": 4,
   "id": "447a29bf-dc16-4058-b566-b2388491898f",
   "metadata": {
    "tags": []
   },
   "outputs": [
    {
     "data": {
      "text/html": [
       "<div>\n",
       "<style scoped>\n",
       "    .dataframe tbody tr th:only-of-type {\n",
       "        vertical-align: middle;\n",
       "    }\n",
       "\n",
       "    .dataframe tbody tr th {\n",
       "        vertical-align: top;\n",
       "    }\n",
       "\n",
       "    .dataframe thead th {\n",
       "        text-align: right;\n",
       "    }\n",
       "</style>\n",
       "<table border=\"1\" class=\"dataframe\">\n",
       "  <thead>\n",
       "    <tr style=\"text-align: right;\">\n",
       "      <th></th>\n",
       "      <th>obj_ID</th>\n",
       "      <th>alpha</th>\n",
       "      <th>delta</th>\n",
       "      <th>u</th>\n",
       "      <th>g</th>\n",
       "      <th>r</th>\n",
       "      <th>i</th>\n",
       "      <th>z</th>\n",
       "      <th>run_ID</th>\n",
       "      <th>rerun_ID</th>\n",
       "      <th>cam_col</th>\n",
       "      <th>field_ID</th>\n",
       "      <th>spec_obj_ID</th>\n",
       "      <th>class</th>\n",
       "      <th>redshift</th>\n",
       "      <th>plate</th>\n",
       "      <th>MJD</th>\n",
       "      <th>fiber_ID</th>\n",
       "    </tr>\n",
       "  </thead>\n",
       "  <tbody>\n",
       "    <tr>\n",
       "      <th>29702</th>\n",
       "      <td>1.237663e+18</td>\n",
       "      <td>348.966755</td>\n",
       "      <td>0.815557</td>\n",
       "      <td>22.23981</td>\n",
       "      <td>20.68514</td>\n",
       "      <td>19.38027</td>\n",
       "      <td>18.82421</td>\n",
       "      <td>18.32640</td>\n",
       "      <td>4188</td>\n",
       "      <td>301</td>\n",
       "      <td>5</td>\n",
       "      <td>36</td>\n",
       "      <td>4.739165e+18</td>\n",
       "      <td>GALAXY</td>\n",
       "      <td>0.331626</td>\n",
       "      <td>4209</td>\n",
       "      <td>55478</td>\n",
       "      <td>916</td>\n",
       "    </tr>\n",
       "    <tr>\n",
       "      <th>53238</th>\n",
       "      <td>1.237661e+18</td>\n",
       "      <td>143.607725</td>\n",
       "      <td>37.352066</td>\n",
       "      <td>18.71538</td>\n",
       "      <td>17.61800</td>\n",
       "      <td>17.22947</td>\n",
       "      <td>17.07861</td>\n",
       "      <td>17.00727</td>\n",
       "      <td>3560</td>\n",
       "      <td>301</td>\n",
       "      <td>5</td>\n",
       "      <td>242</td>\n",
       "      <td>1.435656e+18</td>\n",
       "      <td>STAR</td>\n",
       "      <td>-0.000460</td>\n",
       "      <td>1275</td>\n",
       "      <td>52996</td>\n",
       "      <td>487</td>\n",
       "    </tr>\n",
       "    <tr>\n",
       "      <th>81455</th>\n",
       "      <td>1.237663e+18</td>\n",
       "      <td>225.067551</td>\n",
       "      <td>10.728419</td>\n",
       "      <td>23.90041</td>\n",
       "      <td>20.59403</td>\n",
       "      <td>18.87447</td>\n",
       "      <td>18.25541</td>\n",
       "      <td>17.84822</td>\n",
       "      <td>3996</td>\n",
       "      <td>301</td>\n",
       "      <td>1</td>\n",
       "      <td>140</td>\n",
       "      <td>6.169996e+18</td>\n",
       "      <td>GALAXY</td>\n",
       "      <td>0.327784</td>\n",
       "      <td>5480</td>\n",
       "      <td>56001</td>\n",
       "      <td>236</td>\n",
       "    </tr>\n",
       "    <tr>\n",
       "      <th>91146</th>\n",
       "      <td>1.237652e+18</td>\n",
       "      <td>169.406161</td>\n",
       "      <td>2.592333</td>\n",
       "      <td>19.59181</td>\n",
       "      <td>17.77358</td>\n",
       "      <td>16.75870</td>\n",
       "      <td>16.27684</td>\n",
       "      <td>15.89852</td>\n",
       "      <td>1462</td>\n",
       "      <td>301</td>\n",
       "      <td>4</td>\n",
       "      <td>294</td>\n",
       "      <td>5.754328e+17</td>\n",
       "      <td>GALAXY</td>\n",
       "      <td>0.089251</td>\n",
       "      <td>511</td>\n",
       "      <td>52636</td>\n",
       "      <td>356</td>\n",
       "    </tr>\n",
       "    <tr>\n",
       "      <th>66106</th>\n",
       "      <td>1.237668e+18</td>\n",
       "      <td>199.521951</td>\n",
       "      <td>20.317778</td>\n",
       "      <td>21.02979</td>\n",
       "      <td>20.57309</td>\n",
       "      <td>20.43239</td>\n",
       "      <td>20.16226</td>\n",
       "      <td>19.82956</td>\n",
       "      <td>5314</td>\n",
       "      <td>301</td>\n",
       "      <td>6</td>\n",
       "      <td>147</td>\n",
       "      <td>6.602285e+18</td>\n",
       "      <td>QSO</td>\n",
       "      <td>0.760970</td>\n",
       "      <td>5864</td>\n",
       "      <td>56047</td>\n",
       "      <td>28</td>\n",
       "    </tr>\n",
       "  </tbody>\n",
       "</table>\n",
       "</div>"
      ],
      "text/plain": [
       "             obj_ID       alpha      delta         u         g         r  \\\n",
       "29702  1.237663e+18  348.966755   0.815557  22.23981  20.68514  19.38027   \n",
       "53238  1.237661e+18  143.607725  37.352066  18.71538  17.61800  17.22947   \n",
       "81455  1.237663e+18  225.067551  10.728419  23.90041  20.59403  18.87447   \n",
       "91146  1.237652e+18  169.406161   2.592333  19.59181  17.77358  16.75870   \n",
       "66106  1.237668e+18  199.521951  20.317778  21.02979  20.57309  20.43239   \n",
       "\n",
       "              i         z  run_ID  rerun_ID  cam_col  field_ID   spec_obj_ID  \\\n",
       "29702  18.82421  18.32640    4188       301        5        36  4.739165e+18   \n",
       "53238  17.07861  17.00727    3560       301        5       242  1.435656e+18   \n",
       "81455  18.25541  17.84822    3996       301        1       140  6.169996e+18   \n",
       "91146  16.27684  15.89852    1462       301        4       294  5.754328e+17   \n",
       "66106  20.16226  19.82956    5314       301        6       147  6.602285e+18   \n",
       "\n",
       "        class  redshift  plate    MJD  fiber_ID  \n",
       "29702  GALAXY  0.331626   4209  55478       916  \n",
       "53238    STAR -0.000460   1275  52996       487  \n",
       "81455  GALAXY  0.327784   5480  56001       236  \n",
       "91146  GALAXY  0.089251    511  52636       356  \n",
       "66106     QSO  0.760970   5864  56047        28  "
      ]
     },
     "execution_count": 4,
     "metadata": {},
     "output_type": "execute_result"
    }
   ],
   "source": [
    "df.sample(5)"
   ]
  },
  {
   "cell_type": "code",
   "execution_count": 5,
   "id": "595b98c2-ea0d-40bd-9d6e-16f267bc5ee5",
   "metadata": {
    "tags": []
   },
   "outputs": [
    {
     "data": {
      "text/plain": [
       "obj_ID         False\n",
       "alpha          False\n",
       "delta          False\n",
       "u              False\n",
       "g              False\n",
       "r              False\n",
       "i              False\n",
       "z              False\n",
       "run_ID         False\n",
       "rerun_ID       False\n",
       "cam_col        False\n",
       "field_ID       False\n",
       "spec_obj_ID    False\n",
       "class          False\n",
       "redshift       False\n",
       "plate          False\n",
       "MJD            False\n",
       "fiber_ID       False\n",
       "dtype: bool"
      ]
     },
     "execution_count": 5,
     "metadata": {},
     "output_type": "execute_result"
    }
   ],
   "source": [
    "df.isnull().any()"
   ]
  },
  {
   "cell_type": "code",
   "execution_count": 6,
   "id": "2c02b58a-ab91-429e-9238-9308c44cac07",
   "metadata": {
    "tags": []
   },
   "outputs": [
    {
     "name": "stdout",
     "output_type": "stream",
     "text": [
      "Index(['obj_ID', 'alpha', 'delta', 'u', 'g', 'r', 'i', 'z', 'run_ID',\n",
      "       'rerun_ID', 'cam_col', 'field_ID', 'spec_obj_ID', 'class', 'redshift',\n",
      "       'plate', 'MJD', 'fiber_ID'],\n",
      "      dtype='object')\n"
     ]
    }
   ],
   "source": [
    "all_columns = df.columns\n",
    "# for column in all_columns:\n",
    "#     print(column)\n",
    "print(all_columns)"
   ]
  },
  {
   "cell_type": "code",
   "execution_count": 7,
   "id": "3396740d-f589-453b-a499-e5f372b86491",
   "metadata": {
    "tags": []
   },
   "outputs": [
    {
     "data": {
      "text/plain": [
       "GALAXY    59445\n",
       "STAR      21594\n",
       "QSO       18961\n",
       "Name: class, dtype: int64"
      ]
     },
     "execution_count": 7,
     "metadata": {},
     "output_type": "execute_result"
    }
   ],
   "source": [
    "df['class'].value_counts()"
   ]
  },
  {
   "cell_type": "code",
   "execution_count": 8,
   "id": "15b3f789-306a-4fde-a949-71bd7b32af96",
   "metadata": {
    "tags": []
   },
   "outputs": [],
   "source": [
    "huge_class_label = 'GALAXY'  # Replace this with the actual label of the huge class\n",
    "desired_instances = 20000\n",
    "\n",
    "# Filter the huge class instances\n",
    "huge_class_instances = df[df['class'] == huge_class_label]\n",
    "\n",
    "# Randomly select desired_instances number of instances\n",
    "sampled_huge_class_instances = huge_class_instances.sample(n=desired_instances, random_state=42)\n",
    "\n",
    "# Drop the instances from the original huge class\n",
    "df_balanced = df.drop(huge_class_instances.index)\n",
    "\n",
    "# Concatenate the sampled huge class instances with the instances of the other classes\n",
    "df_balanced = pd.concat([df_balanced, sampled_huge_class_instances])\n",
    "\n",
    "# Now df_balanced contains a balanced dataset\n",
    "\n",
    "# Shuffle the rows of the DataFrame to ensure randomness\n",
    "df_balanced = df_balanced.sample(frac=1, random_state=42)"
   ]
  },
  {
   "cell_type": "code",
   "execution_count": 9,
   "id": "11d27e67-7357-410e-abe7-ad93c5006738",
   "metadata": {
    "tags": []
   },
   "outputs": [
    {
     "data": {
      "text/plain": [
       "STAR      21594\n",
       "GALAXY    20000\n",
       "QSO       18961\n",
       "Name: class, dtype: int64"
      ]
     },
     "execution_count": 9,
     "metadata": {},
     "output_type": "execute_result"
    }
   ],
   "source": [
    "df = df_balanced.copy()\n",
    "df['class'].value_counts()"
   ]
  },
  {
   "cell_type": "code",
   "execution_count": 10,
   "id": "483caaee-ac80-47ff-b3a9-2cd33524bd91",
   "metadata": {
    "tags": []
   },
   "outputs": [
    {
     "data": {
      "image/png": "[encoded data removed]",
      "text/plain": [
       "<Figure size 640x480 with 1 Axes>"
      ]
     },
     "metadata": {},
     "output_type": "display_data"
    }
   ],
   "source": [
    "sns.countplot(data = df, x = 'class')\n",
    "plt.title(\"Frequency plot of dataset\")\n",
    "plt.savefig(\"Fig1-Countplot of the dataset\")\n",
    "plt.show()"
   ]
  },
  {
   "cell_type": "markdown",
   "id": "53eed29d-1245-46e9-b36e-ceb787bdd4b5",
   "metadata": {},
   "source": [
    "Step 4: Convert the class or attributes variable having catagorical values to numerical (if any)\n",
    "\n",
    "Note: Here only class column has catagotical values"
   ]
  },
  {
   "cell_type": "code",
   "execution_count": 11,
   "id": "243b3eef-4bc5-4aad-9772-e2a2f6966511",
   "metadata": {
    "tags": []
   },
   "outputs": [
    {
     "data": {
      "text/html": [
       "<style>#sk-container-id-1 {color: black;background-color: white;}#sk-container-id-1 pre{padding: 0;}#sk-container-id-1 div.sk-toggleable {background-color: white;}#sk-container-id-1 label.sk-toggleable__label {cursor: pointer;display: block;width: 100%;margin-bottom: 0;padding: 0.3em;box-sizing: border-box;text-align: center;}#sk-container-id-1 label.sk-toggleable__label-arrow:before {content: \"▸\";float: left;margin-right: 0.25em;color: #696969;}#sk-container-id-1 label.sk-toggleable__label-arrow:hover:before {color: black;}#sk-container-id-1 div.sk-estimator:hover label.sk-toggleable__label-arrow:before {color: black;}#sk-container-id-1 div.sk-toggleable__content {max-height: 0;max-width: 0;overflow: hidden;text-align: left;background-color: #f0f8ff;}#sk-container-id-1 div.sk-toggleable__content pre {margin: 0.2em;color: black;border-radius: 0.25em;background-color: #f0f8ff;}#sk-container-id-1 input.sk-toggleable__control:checked~div.sk-toggleable__content {max-height: 200px;max-width: 100%;overflow: auto;}#sk-container-id-1 input.sk-toggleable__control:checked~label.sk-toggleable__label-arrow:before {content: \"▾\";}#sk-container-id-1 div.sk-estimator input.sk-toggleable__control:checked~label.sk-toggleable__label {background-color: #d4ebff;}#sk-container-id-1 div.sk-label input.sk-toggleable__control:checked~label.sk-toggleable__label {background-color: #d4ebff;}#sk-container-id-1 input.sk-hidden--visually {border: 0;clip: rect(1px 1px 1px 1px);clip: rect(1px, 1px, 1px, 1px);height: 1px;margin: -1px;overflow: hidden;padding: 0;position: absolute;width: 1px;}#sk-container-id-1 div.sk-estimator {font-family: monospace;background-color: #f0f8ff;border: 1px dotted black;border-radius: 0.25em;box-sizing: border-box;margin-bottom: 0.5em;}#sk-container-id-1 div.sk-estimator:hover {background-color: #d4ebff;}#sk-container-id-1 div.sk-parallel-item::after {content: \"\";width: 100%;border-bottom: 1px solid gray;flex-grow: 1;}#sk-container-id-1 div.sk-label:hover label.sk-toggleable__label {background-color: #d4ebff;}#sk-container-id-1 div.sk-serial::before {content: \"\";position: absolute;border-left: 1px solid gray;box-sizing: border-box;top: 0;bottom: 0;left: 50%;z-index: 0;}#sk-container-id-1 div.sk-serial {display: flex;flex-direction: column;align-items: center;background-color: white;padding-right: 0.2em;padding-left: 0.2em;position: relative;}#sk-container-id-1 div.sk-item {position: relative;z-index: 1;}#sk-container-id-1 div.sk-parallel {display: flex;align-items: stretch;justify-content: center;background-color: white;position: relative;}#sk-container-id-1 div.sk-item::before, #sk-container-id-1 div.sk-parallel-item::before {content: \"\";position: absolute;border-left: 1px solid gray;box-sizing: border-box;top: 0;bottom: 0;left: 50%;z-index: -1;}#sk-container-id-1 div.sk-parallel-item {display: flex;flex-direction: column;z-index: 1;position: relative;background-color: white;}#sk-container-id-1 div.sk-parallel-item:first-child::after {align-self: flex-end;width: 50%;}#sk-container-id-1 div.sk-parallel-item:last-child::after {align-self: flex-start;width: 50%;}#sk-container-id-1 div.sk-parallel-item:only-child::after {width: 0;}#sk-container-id-1 div.sk-dashed-wrapped {border: 1px dashed gray;margin: 0 0.4em 0.5em 0.4em;box-sizing: border-box;padding-bottom: 0.4em;background-color: white;}#sk-container-id-1 div.sk-label label {font-family: monospace;font-weight: bold;display: inline-block;line-height: 1.2em;}#sk-container-id-1 div.sk-label-container {text-align: center;}#sk-container-id-1 div.sk-container {/* jupyter's `normalize.less` sets `[hidden] { display: none; }` but bootstrap.min.css set `[hidden] { display: none !important; }` so we also need the `!important` here to be able to override the default hidden behavior on the sphinx rendered scikit-learn.org. See: https://github.com/scikit-learn/scikit-learn/issues/21755 */display: inline-block !important;position: relative;}#sk-container-id-1 div.sk-text-repr-fallback {display: none;}</style><div id=\"sk-container-id-1\" class=\"sk-top-container\"><div class=\"sk-text-repr-fallback\"><pre>LabelEncoder()</pre><b>In a Jupyter environment, please rerun this cell to show the HTML representation or trust the notebook. <br />On GitHub, the HTML representation is unable to render, please try loading this page with nbviewer.org.</b></div><div class=\"sk-container\" hidden><div class=\"sk-item\"><div class=\"sk-estimator sk-toggleable\"><input class=\"sk-toggleable__control sk-hidden--visually\" id=\"sk-estimator-id-1\" type=\"checkbox\" checked><label for=\"sk-estimator-id-1\" class=\"sk-toggleable__label sk-toggleable__label-arrow\">LabelEncoder</label><div class=\"sk-toggleable__content\"><pre>LabelEncoder()</pre></div></div></div></div></div>"
      ],
      "text/plain": [
       "LabelEncoder()"
      ]
     },
     "execution_count": 11,
     "metadata": {},
     "output_type": "execute_result"
    }
   ],
   "source": [
    "label_enc = LabelEncoder()\n",
    "label_enc.fit(df['class'])"
   ]
  },
  {
   "cell_type": "code",
   "execution_count": 12,
   "id": "7eabcda6-531c-4c88-8e6a-4f5fc7aae63d",
   "metadata": {
    "tags": []
   },
   "outputs": [
    {
     "data": {
      "text/plain": [
       "array(['GALAXY', 'QSO', 'STAR'], dtype=object)"
      ]
     },
     "execution_count": 12,
     "metadata": {},
     "output_type": "execute_result"
    }
   ],
   "source": [
    "label_enc.classes_"
   ]
  },
  {
   "cell_type": "code",
   "execution_count": 13,
   "id": "a28845da-c4cb-493a-80fd-c1fb5c98251e",
   "metadata": {
    "tags": []
   },
   "outputs": [
    {
     "data": {
      "text/plain": [
       "array([1, 2, 2, ..., 1, 2, 0])"
      ]
     },
     "execution_count": 13,
     "metadata": {},
     "output_type": "execute_result"
    }
   ],
   "source": [
    "encoded_classes = label_enc.transform(df['class'])\n",
    "encoded_classes"
   ]
  },
  {
   "cell_type": "markdown",
   "id": "6a584959-5ed0-4903-8785-84627eb371d8",
   "metadata": {},
   "source": [
    "Note: GALAXY is encoded as 0, QSO is encoded as 1 and STAR is encoded as 2"
   ]
  },
  {
   "cell_type": "code",
   "execution_count": 14,
   "id": "2cafc395-1bf9-446f-ae6f-83182e4cdf90",
   "metadata": {
    "tags": []
   },
   "outputs": [],
   "source": [
    "df.drop(columns = ['class'], inplace = True, axis = 1)"
   ]
  },
  {
   "cell_type": "code",
   "execution_count": 15,
   "id": "4c7a71bd-604d-489d-874c-092c2a8e2cc5",
   "metadata": {
    "tags": []
   },
   "outputs": [
    {
     "data": {
      "text/html": [
       "<div>\n",
       "<style scoped>\n",
       "    .dataframe tbody tr th:only-of-type {\n",
       "        vertical-align: middle;\n",
       "    }\n",
       "\n",
       "    .dataframe tbody tr th {\n",
       "        vertical-align: top;\n",
       "    }\n",
       "\n",
       "    .dataframe thead th {\n",
       "        text-align: right;\n",
       "    }\n",
       "</style>\n",
       "<table border=\"1\" class=\"dataframe\">\n",
       "  <thead>\n",
       "    <tr style=\"text-align: right;\">\n",
       "      <th></th>\n",
       "      <th>obj_ID</th>\n",
       "      <th>alpha</th>\n",
       "      <th>delta</th>\n",
       "      <th>u</th>\n",
       "      <th>g</th>\n",
       "      <th>r</th>\n",
       "      <th>i</th>\n",
       "      <th>z</th>\n",
       "      <th>run_ID</th>\n",
       "      <th>rerun_ID</th>\n",
       "      <th>cam_col</th>\n",
       "      <th>field_ID</th>\n",
       "      <th>spec_obj_ID</th>\n",
       "      <th>redshift</th>\n",
       "      <th>plate</th>\n",
       "      <th>MJD</th>\n",
       "      <th>fiber_ID</th>\n",
       "    </tr>\n",
       "  </thead>\n",
       "  <tbody>\n",
       "    <tr>\n",
       "      <th>69290</th>\n",
       "      <td>1.237661e+18</td>\n",
       "      <td>131.343533</td>\n",
       "      <td>30.816320</td>\n",
       "      <td>21.99866</td>\n",
       "      <td>21.78298</td>\n",
       "      <td>21.58936</td>\n",
       "      <td>21.20123</td>\n",
       "      <td>21.12445</td>\n",
       "      <td>3560</td>\n",
       "      <td>301</td>\n",
       "      <td>4</td>\n",
       "      <td>161</td>\n",
       "      <td>1.200791e+19</td>\n",
       "      <td>1.859325</td>\n",
       "      <td>10665</td>\n",
       "      <td>58456</td>\n",
       "      <td>699</td>\n",
       "    </tr>\n",
       "    <tr>\n",
       "      <th>33348</th>\n",
       "      <td>1.237662e+18</td>\n",
       "      <td>179.526653</td>\n",
       "      <td>43.388689</td>\n",
       "      <td>21.15862</td>\n",
       "      <td>20.73885</td>\n",
       "      <td>20.79826</td>\n",
       "      <td>20.71907</td>\n",
       "      <td>20.99504</td>\n",
       "      <td>3840</td>\n",
       "      <td>301</td>\n",
       "      <td>6</td>\n",
       "      <td>148</td>\n",
       "      <td>7.478283e+18</td>\n",
       "      <td>-0.000249</td>\n",
       "      <td>6642</td>\n",
       "      <td>56396</td>\n",
       "      <td>204</td>\n",
       "    </tr>\n",
       "    <tr>\n",
       "      <th>9221</th>\n",
       "      <td>1.237659e+18</td>\n",
       "      <td>242.516017</td>\n",
       "      <td>37.953707</td>\n",
       "      <td>21.23440</td>\n",
       "      <td>19.99391</td>\n",
       "      <td>19.80719</td>\n",
       "      <td>19.66509</td>\n",
       "      <td>19.87516</td>\n",
       "      <td>3185</td>\n",
       "      <td>301</td>\n",
       "      <td>4</td>\n",
       "      <td>12</td>\n",
       "      <td>5.854724e+18</td>\n",
       "      <td>-0.001363</td>\n",
       "      <td>5200</td>\n",
       "      <td>56091</td>\n",
       "      <td>160</td>\n",
       "    </tr>\n",
       "    <tr>\n",
       "      <th>40255</th>\n",
       "      <td>1.237679e+18</td>\n",
       "      <td>35.398807</td>\n",
       "      <td>-5.451710</td>\n",
       "      <td>26.88626</td>\n",
       "      <td>21.77774</td>\n",
       "      <td>20.43220</td>\n",
       "      <td>19.60288</td>\n",
       "      <td>19.14694</td>\n",
       "      <td>7881</td>\n",
       "      <td>301</td>\n",
       "      <td>1</td>\n",
       "      <td>257</td>\n",
       "      <td>4.944046e+18</td>\n",
       "      <td>0.475168</td>\n",
       "      <td>4391</td>\n",
       "      <td>55866</td>\n",
       "      <td>799</td>\n",
       "    </tr>\n",
       "    <tr>\n",
       "      <th>87760</th>\n",
       "      <td>1.237651e+18</td>\n",
       "      <td>126.163550</td>\n",
       "      <td>51.084688</td>\n",
       "      <td>22.12825</td>\n",
       "      <td>21.22433</td>\n",
       "      <td>20.80490</td>\n",
       "      <td>20.55736</td>\n",
       "      <td>20.11810</td>\n",
       "      <td>1402</td>\n",
       "      <td>301</td>\n",
       "      <td>3</td>\n",
       "      <td>143</td>\n",
       "      <td>4.153450e+18</td>\n",
       "      <td>-0.000151</td>\n",
       "      <td>3689</td>\n",
       "      <td>55180</td>\n",
       "      <td>18</td>\n",
       "    </tr>\n",
       "    <tr>\n",
       "      <th>...</th>\n",
       "      <td>...</td>\n",
       "      <td>...</td>\n",
       "      <td>...</td>\n",
       "      <td>...</td>\n",
       "      <td>...</td>\n",
       "      <td>...</td>\n",
       "      <td>...</td>\n",
       "      <td>...</td>\n",
       "      <td>...</td>\n",
       "      <td>...</td>\n",
       "      <td>...</td>\n",
       "      <td>...</td>\n",
       "      <td>...</td>\n",
       "      <td>...</td>\n",
       "      <td>...</td>\n",
       "      <td>...</td>\n",
       "      <td>...</td>\n",
       "    </tr>\n",
       "    <tr>\n",
       "      <th>37977</th>\n",
       "      <td>1.237668e+18</td>\n",
       "      <td>221.500829</td>\n",
       "      <td>13.720024</td>\n",
       "      <td>19.22140</td>\n",
       "      <td>17.81807</td>\n",
       "      <td>17.31761</td>\n",
       "      <td>17.04791</td>\n",
       "      <td>16.85478</td>\n",
       "      <td>5322</td>\n",
       "      <td>301</td>\n",
       "      <td>2</td>\n",
       "      <td>80</td>\n",
       "      <td>3.096311e+18</td>\n",
       "      <td>0.028853</td>\n",
       "      <td>2750</td>\n",
       "      <td>54242</td>\n",
       "      <td>312</td>\n",
       "    </tr>\n",
       "    <tr>\n",
       "      <th>93383</th>\n",
       "      <td>1.237681e+18</td>\n",
       "      <td>342.098486</td>\n",
       "      <td>27.969796</td>\n",
       "      <td>20.03004</td>\n",
       "      <td>19.57434</td>\n",
       "      <td>19.33218</td>\n",
       "      <td>19.11573</td>\n",
       "      <td>18.99926</td>\n",
       "      <td>8162</td>\n",
       "      <td>301</td>\n",
       "      <td>3</td>\n",
       "      <td>141</td>\n",
       "      <td>8.615394e+18</td>\n",
       "      <td>1.709785</td>\n",
       "      <td>7652</td>\n",
       "      <td>57579</td>\n",
       "      <td>30</td>\n",
       "    </tr>\n",
       "    <tr>\n",
       "      <th>2456</th>\n",
       "      <td>1.237664e+18</td>\n",
       "      <td>36.121425</td>\n",
       "      <td>-1.208469</td>\n",
       "      <td>21.98144</td>\n",
       "      <td>22.07973</td>\n",
       "      <td>21.92136</td>\n",
       "      <td>21.49021</td>\n",
       "      <td>21.48342</td>\n",
       "      <td>4263</td>\n",
       "      <td>301</td>\n",
       "      <td>1</td>\n",
       "      <td>357</td>\n",
       "      <td>8.257471e+18</td>\n",
       "      <td>1.622010</td>\n",
       "      <td>7334</td>\n",
       "      <td>56656</td>\n",
       "      <td>441</td>\n",
       "    </tr>\n",
       "    <tr>\n",
       "      <th>37751</th>\n",
       "      <td>1.237668e+18</td>\n",
       "      <td>183.351489</td>\n",
       "      <td>22.337118</td>\n",
       "      <td>19.58818</td>\n",
       "      <td>18.55621</td>\n",
       "      <td>18.15174</td>\n",
       "      <td>17.98830</td>\n",
       "      <td>17.90275</td>\n",
       "      <td>5183</td>\n",
       "      <td>301</td>\n",
       "      <td>3</td>\n",
       "      <td>339</td>\n",
       "      <td>2.976900e+18</td>\n",
       "      <td>0.000724</td>\n",
       "      <td>2644</td>\n",
       "      <td>54210</td>\n",
       "      <td>76</td>\n",
       "    </tr>\n",
       "    <tr>\n",
       "      <th>64017</th>\n",
       "      <td>1.237658e+18</td>\n",
       "      <td>115.011733</td>\n",
       "      <td>22.247123</td>\n",
       "      <td>20.41375</td>\n",
       "      <td>18.56423</td>\n",
       "      <td>17.65269</td>\n",
       "      <td>17.22945</td>\n",
       "      <td>16.89498</td>\n",
       "      <td>2830</td>\n",
       "      <td>301</td>\n",
       "      <td>1</td>\n",
       "      <td>16</td>\n",
       "      <td>1.043779e+18</td>\n",
       "      <td>0.078801</td>\n",
       "      <td>927</td>\n",
       "      <td>52577</td>\n",
       "      <td>254</td>\n",
       "    </tr>\n",
       "  </tbody>\n",
       "</table>\n",
       "<p>60555 rows × 17 columns</p>\n",
       "</div>"
      ],
      "text/plain": [
       "             obj_ID       alpha      delta         u         g         r  \\\n",
       "69290  1.237661e+18  131.343533  30.816320  21.99866  21.78298  21.58936   \n",
       "33348  1.237662e+18  179.526653  43.388689  21.15862  20.73885  20.79826   \n",
       "9221   1.237659e+18  242.516017  37.953707  21.23440  19.99391  19.80719   \n",
       "40255  1.237679e+18   35.398807  -5.451710  26.88626  21.77774  20.43220   \n",
       "87760  1.237651e+18  126.163550  51.084688  22.12825  21.22433  20.80490   \n",
       "...             ...         ...        ...       ...       ...       ...   \n",
       "37977  1.237668e+18  221.500829  13.720024  19.22140  17.81807  17.31761   \n",
       "93383  1.237681e+18  342.098486  27.969796  20.03004  19.57434  19.33218   \n",
       "2456   1.237664e+18   36.121425  -1.208469  21.98144  22.07973  21.92136   \n",
       "37751  1.237668e+18  183.351489  22.337118  19.58818  18.55621  18.15174   \n",
       "64017  1.237658e+18  115.011733  22.247123  20.41375  18.56423  17.65269   \n",
       "\n",
       "              i         z  run_ID  rerun_ID  cam_col  field_ID   spec_obj_ID  \\\n",
       "69290  21.20123  21.12445    3560       301        4       161  1.200791e+19   \n",
       "33348  20.71907  20.99504    3840       301        6       148  7.478283e+18   \n",
       "9221   19.66509  19.87516    3185       301        4        12  5.854724e+18   \n",
       "40255  19.60288  19.14694    7881       301        1       257  4.944046e+18   \n",
       "87760  20.55736  20.11810    1402       301        3       143  4.153450e+18   \n",
       "...         ...       ...     ...       ...      ...       ...           ...   \n",
       "37977  17.04791  16.85478    5322       301        2        80  3.096311e+18   \n",
       "93383  19.11573  18.99926    8162       301        3       141  8.615394e+18   \n",
       "2456   21.49021  21.48342    4263       301        1       357  8.257471e+18   \n",
       "37751  17.98830  17.90275    5183       301        3       339  2.976900e+18   \n",
       "64017  17.22945  16.89498    2830       301        1        16  1.043779e+18   \n",
       "\n",
       "       redshift  plate    MJD  fiber_ID  \n",
       "69290  1.859325  10665  58456       699  \n",
       "33348 -0.000249   6642  56396       204  \n",
       "9221  -0.001363   5200  56091       160  \n",
       "40255  0.475168   4391  55866       799  \n",
       "87760 -0.000151   3689  55180        18  \n",
       "...         ...    ...    ...       ...  \n",
       "37977  0.028853   2750  54242       312  \n",
       "93383  1.709785   7652  57579        30  \n",
       "2456   1.622010   7334  56656       441  \n",
       "37751  0.000724   2644  54210        76  \n",
       "64017  0.078801    927  52577       254  \n",
       "\n",
       "[60555 rows x 17 columns]"
      ]
     },
     "execution_count": 15,
     "metadata": {},
     "output_type": "execute_result"
    }
   ],
   "source": [
    "df"
   ]
  },
  {
   "cell_type": "code",
   "execution_count": 16,
   "id": "2b329f6d-a2dc-4ce7-ba39-85340c651dd9",
   "metadata": {
    "tags": []
   },
   "outputs": [],
   "source": [
    "df['label'] = encoded_classes"
   ]
  },
  {
   "cell_type": "code",
   "execution_count": 17,
   "id": "ddc448da-07d4-4b64-a9ad-a3c341cfebba",
   "metadata": {
    "tags": []
   },
   "outputs": [
    {
     "data": {
      "text/html": [
       "<div>\n",
       "<style scoped>\n",
       "    .dataframe tbody tr th:only-of-type {\n",
       "        vertical-align: middle;\n",
       "    }\n",
       "\n",
       "    .dataframe tbody tr th {\n",
       "        vertical-align: top;\n",
       "    }\n",
       "\n",
       "    .dataframe thead th {\n",
       "        text-align: right;\n",
       "    }\n",
       "</style>\n",
       "<table border=\"1\" class=\"dataframe\">\n",
       "  <thead>\n",
       "    <tr style=\"text-align: right;\">\n",
       "      <th></th>\n",
       "      <th>obj_ID</th>\n",
       "      <th>alpha</th>\n",
       "      <th>delta</th>\n",
       "      <th>u</th>\n",
       "      <th>g</th>\n",
       "      <th>r</th>\n",
       "      <th>i</th>\n",
       "      <th>z</th>\n",
       "      <th>run_ID</th>\n",
       "      <th>rerun_ID</th>\n",
       "      <th>cam_col</th>\n",
       "      <th>field_ID</th>\n",
       "      <th>spec_obj_ID</th>\n",
       "      <th>redshift</th>\n",
       "      <th>plate</th>\n",
       "      <th>MJD</th>\n",
       "      <th>fiber_ID</th>\n",
       "      <th>label</th>\n",
       "    </tr>\n",
       "  </thead>\n",
       "  <tbody>\n",
       "    <tr>\n",
       "      <th>69290</th>\n",
       "      <td>1.237661e+18</td>\n",
       "      <td>131.343533</td>\n",
       "      <td>30.816320</td>\n",
       "      <td>21.99866</td>\n",
       "      <td>21.78298</td>\n",
       "      <td>21.58936</td>\n",
       "      <td>21.20123</td>\n",
       "      <td>21.12445</td>\n",
       "      <td>3560</td>\n",
       "      <td>301</td>\n",
       "      <td>4</td>\n",
       "      <td>161</td>\n",
       "      <td>1.200791e+19</td>\n",
       "      <td>1.859325</td>\n",
       "      <td>10665</td>\n",
       "      <td>58456</td>\n",
       "      <td>699</td>\n",
       "      <td>1</td>\n",
       "    </tr>\n",
       "    <tr>\n",
       "      <th>33348</th>\n",
       "      <td>1.237662e+18</td>\n",
       "      <td>179.526653</td>\n",
       "      <td>43.388689</td>\n",
       "      <td>21.15862</td>\n",
       "      <td>20.73885</td>\n",
       "      <td>20.79826</td>\n",
       "      <td>20.71907</td>\n",
       "      <td>20.99504</td>\n",
       "      <td>3840</td>\n",
       "      <td>301</td>\n",
       "      <td>6</td>\n",
       "      <td>148</td>\n",
       "      <td>7.478283e+18</td>\n",
       "      <td>-0.000249</td>\n",
       "      <td>6642</td>\n",
       "      <td>56396</td>\n",
       "      <td>204</td>\n",
       "      <td>2</td>\n",
       "    </tr>\n",
       "    <tr>\n",
       "      <th>9221</th>\n",
       "      <td>1.237659e+18</td>\n",
       "      <td>242.516017</td>\n",
       "      <td>37.953707</td>\n",
       "      <td>21.23440</td>\n",
       "      <td>19.99391</td>\n",
       "      <td>19.80719</td>\n",
       "      <td>19.66509</td>\n",
       "      <td>19.87516</td>\n",
       "      <td>3185</td>\n",
       "      <td>301</td>\n",
       "      <td>4</td>\n",
       "      <td>12</td>\n",
       "      <td>5.854724e+18</td>\n",
       "      <td>-0.001363</td>\n",
       "      <td>5200</td>\n",
       "      <td>56091</td>\n",
       "      <td>160</td>\n",
       "      <td>2</td>\n",
       "    </tr>\n",
       "    <tr>\n",
       "      <th>40255</th>\n",
       "      <td>1.237679e+18</td>\n",
       "      <td>35.398807</td>\n",
       "      <td>-5.451710</td>\n",
       "      <td>26.88626</td>\n",
       "      <td>21.77774</td>\n",
       "      <td>20.43220</td>\n",
       "      <td>19.60288</td>\n",
       "      <td>19.14694</td>\n",
       "      <td>7881</td>\n",
       "      <td>301</td>\n",
       "      <td>1</td>\n",
       "      <td>257</td>\n",
       "      <td>4.944046e+18</td>\n",
       "      <td>0.475168</td>\n",
       "      <td>4391</td>\n",
       "      <td>55866</td>\n",
       "      <td>799</td>\n",
       "      <td>0</td>\n",
       "    </tr>\n",
       "    <tr>\n",
       "      <th>87760</th>\n",
       "      <td>1.237651e+18</td>\n",
       "      <td>126.163550</td>\n",
       "      <td>51.084688</td>\n",
       "      <td>22.12825</td>\n",
       "      <td>21.22433</td>\n",
       "      <td>20.80490</td>\n",
       "      <td>20.55736</td>\n",
       "      <td>20.11810</td>\n",
       "      <td>1402</td>\n",
       "      <td>301</td>\n",
       "      <td>3</td>\n",
       "      <td>143</td>\n",
       "      <td>4.153450e+18</td>\n",
       "      <td>-0.000151</td>\n",
       "      <td>3689</td>\n",
       "      <td>55180</td>\n",
       "      <td>18</td>\n",
       "      <td>2</td>\n",
       "    </tr>\n",
       "    <tr>\n",
       "      <th>...</th>\n",
       "      <td>...</td>\n",
       "      <td>...</td>\n",
       "      <td>...</td>\n",
       "      <td>...</td>\n",
       "      <td>...</td>\n",
       "      <td>...</td>\n",
       "      <td>...</td>\n",
       "      <td>...</td>\n",
       "      <td>...</td>\n",
       "      <td>...</td>\n",
       "      <td>...</td>\n",
       "      <td>...</td>\n",
       "      <td>...</td>\n",
       "      <td>...</td>\n",
       "      <td>...</td>\n",
       "      <td>...</td>\n",
       "      <td>...</td>\n",
       "      <td>...</td>\n",
       "    </tr>\n",
       "    <tr>\n",
       "      <th>37977</th>\n",
       "      <td>1.237668e+18</td>\n",
       "      <td>221.500829</td>\n",
       "      <td>13.720024</td>\n",
       "      <td>19.22140</td>\n",
       "      <td>17.81807</td>\n",
       "      <td>17.31761</td>\n",
       "      <td>17.04791</td>\n",
       "      <td>16.85478</td>\n",
       "      <td>5322</td>\n",
       "      <td>301</td>\n",
       "      <td>2</td>\n",
       "      <td>80</td>\n",
       "      <td>3.096311e+18</td>\n",
       "      <td>0.028853</td>\n",
       "      <td>2750</td>\n",
       "      <td>54242</td>\n",
       "      <td>312</td>\n",
       "      <td>0</td>\n",
       "    </tr>\n",
       "    <tr>\n",
       "      <th>93383</th>\n",
       "      <td>1.237681e+18</td>\n",
       "      <td>342.098486</td>\n",
       "      <td>27.969796</td>\n",
       "      <td>20.03004</td>\n",
       "      <td>19.57434</td>\n",
       "      <td>19.33218</td>\n",
       "      <td>19.11573</td>\n",
       "      <td>18.99926</td>\n",
       "      <td>8162</td>\n",
       "      <td>301</td>\n",
       "      <td>3</td>\n",
       "      <td>141</td>\n",
       "      <td>8.615394e+18</td>\n",
       "      <td>1.709785</td>\n",
       "      <td>7652</td>\n",
       "      <td>57579</td>\n",
       "      <td>30</td>\n",
       "      <td>1</td>\n",
       "    </tr>\n",
       "    <tr>\n",
       "      <th>2456</th>\n",
       "      <td>1.237664e+18</td>\n",
       "      <td>36.121425</td>\n",
       "      <td>-1.208469</td>\n",
       "      <td>21.98144</td>\n",
       "      <td>22.07973</td>\n",
       "      <td>21.92136</td>\n",
       "      <td>21.49021</td>\n",
       "      <td>21.48342</td>\n",
       "      <td>4263</td>\n",
       "      <td>301</td>\n",
       "      <td>1</td>\n",
       "      <td>357</td>\n",
       "      <td>8.257471e+18</td>\n",
       "      <td>1.622010</td>\n",
       "      <td>7334</td>\n",
       "      <td>56656</td>\n",
       "      <td>441</td>\n",
       "      <td>1</td>\n",
       "    </tr>\n",
       "    <tr>\n",
       "      <th>37751</th>\n",
       "      <td>1.237668e+18</td>\n",
       "      <td>183.351489</td>\n",
       "      <td>22.337118</td>\n",
       "      <td>19.58818</td>\n",
       "      <td>18.55621</td>\n",
       "      <td>18.15174</td>\n",
       "      <td>17.98830</td>\n",
       "      <td>17.90275</td>\n",
       "      <td>5183</td>\n",
       "      <td>301</td>\n",
       "      <td>3</td>\n",
       "      <td>339</td>\n",
       "      <td>2.976900e+18</td>\n",
       "      <td>0.000724</td>\n",
       "      <td>2644</td>\n",
       "      <td>54210</td>\n",
       "      <td>76</td>\n",
       "      <td>2</td>\n",
       "    </tr>\n",
       "    <tr>\n",
       "      <th>64017</th>\n",
       "      <td>1.237658e+18</td>\n",
       "      <td>115.011733</td>\n",
       "      <td>22.247123</td>\n",
       "      <td>20.41375</td>\n",
       "      <td>18.56423</td>\n",
       "      <td>17.65269</td>\n",
       "      <td>17.22945</td>\n",
       "      <td>16.89498</td>\n",
       "      <td>2830</td>\n",
       "      <td>301</td>\n",
       "      <td>1</td>\n",
       "      <td>16</td>\n",
       "      <td>1.043779e+18</td>\n",
       "      <td>0.078801</td>\n",
       "      <td>927</td>\n",
       "      <td>52577</td>\n",
       "      <td>254</td>\n",
       "      <td>0</td>\n",
       "    </tr>\n",
       "  </tbody>\n",
       "</table>\n",
       "<p>60555 rows × 18 columns</p>\n",
       "</div>"
      ],
      "text/plain": [
       "             obj_ID       alpha      delta         u         g         r  \\\n",
       "69290  1.237661e+18  131.343533  30.816320  21.99866  21.78298  21.58936   \n",
       "33348  1.237662e+18  179.526653  43.388689  21.15862  20.73885  20.79826   \n",
       "9221   1.237659e+18  242.516017  37.953707  21.23440  19.99391  19.80719   \n",
       "40255  1.237679e+18   35.398807  -5.451710  26.88626  21.77774  20.43220   \n",
       "87760  1.237651e+18  126.163550  51.084688  22.12825  21.22433  20.80490   \n",
       "...             ...         ...        ...       ...       ...       ...   \n",
       "37977  1.237668e+18  221.500829  13.720024  19.22140  17.81807  17.31761   \n",
       "93383  1.237681e+18  342.098486  27.969796  20.03004  19.57434  19.33218   \n",
       "2456   1.237664e+18   36.121425  -1.208469  21.98144  22.07973  21.92136   \n",
       "37751  1.237668e+18  183.351489  22.337118  19.58818  18.55621  18.15174   \n",
       "64017  1.237658e+18  115.011733  22.247123  20.41375  18.56423  17.65269   \n",
       "\n",
       "              i         z  run_ID  rerun_ID  cam_col  field_ID   spec_obj_ID  \\\n",
       "69290  21.20123  21.12445    3560       301        4       161  1.200791e+19   \n",
       "33348  20.71907  20.99504    3840       301        6       148  7.478283e+18   \n",
       "9221   19.66509  19.87516    3185       301        4        12  5.854724e+18   \n",
       "40255  19.60288  19.14694    7881       301        1       257  4.944046e+18   \n",
       "87760  20.55736  20.11810    1402       301        3       143  4.153450e+18   \n",
       "...         ...       ...     ...       ...      ...       ...           ...   \n",
       "37977  17.04791  16.85478    5322       301        2        80  3.096311e+18   \n",
       "93383  19.11573  18.99926    8162       301        3       141  8.615394e+18   \n",
       "2456   21.49021  21.48342    4263       301        1       357  8.257471e+18   \n",
       "37751  17.98830  17.90275    5183       301        3       339  2.976900e+18   \n",
       "64017  17.22945  16.89498    2830       301        1        16  1.043779e+18   \n",
       "\n",
       "       redshift  plate    MJD  fiber_ID  label  \n",
       "69290  1.859325  10665  58456       699      1  \n",
       "33348 -0.000249   6642  56396       204      2  \n",
       "9221  -0.001363   5200  56091       160      2  \n",
       "40255  0.475168   4391  55866       799      0  \n",
       "87760 -0.000151   3689  55180        18      2  \n",
       "...         ...    ...    ...       ...    ...  \n",
       "37977  0.028853   2750  54242       312      0  \n",
       "93383  1.709785   7652  57579        30      1  \n",
       "2456   1.622010   7334  56656       441      1  \n",
       "37751  0.000724   2644  54210        76      2  \n",
       "64017  0.078801    927  52577       254      0  \n",
       "\n",
       "[60555 rows x 18 columns]"
      ]
     },
     "execution_count": 17,
     "metadata": {},
     "output_type": "execute_result"
    }
   ],
   "source": [
    "df"
   ]
  },
  {
   "cell_type": "code",
   "execution_count": 18,
   "id": "8d7cc132-1a46-444c-9061-2c11800c9591",
   "metadata": {
    "tags": []
   },
   "outputs": [
    {
     "name": "stdout",
     "output_type": "stream",
     "text": [
      "2    21594\n",
      "0    20000\n",
      "1    18961\n",
      "Name: label, dtype: int64\n",
      "Note: GALAXY is encoded as 0, QSO is encoded as 1 and STAR is encoded as 2\n"
     ]
    }
   ],
   "source": [
    "print(df['label'].value_counts())\n",
    "print('Note: GALAXY is encoded as 0, QSO is encoded as 1 and STAR is encoded as 2')"
   ]
  },
  {
   "cell_type": "markdown",
   "id": "9625ca9b-3d57-4236-b637-8eeda39da0ee",
   "metadata": {
    "tags": []
   },
   "source": [
    "Step 5: Drop the class and save it on different variable"
   ]
  },
  {
   "cell_type": "code",
   "execution_count": 19,
   "id": "e8b2cc9d-5078-4c7e-af38-f06a789c5959",
   "metadata": {
    "tags": []
   },
   "outputs": [],
   "source": [
    "y = df['label']"
   ]
  },
  {
   "cell_type": "code",
   "execution_count": 20,
   "id": "facbdc1e-a52e-44a1-a735-5461b79f1ccd",
   "metadata": {
    "tags": []
   },
   "outputs": [],
   "source": [
    "X = df.copy()\n",
    "X.drop(columns = 'label', inplace = True, axis = 1)"
   ]
  },
  {
   "cell_type": "code",
   "execution_count": 21,
   "id": "8dab2b17-58e6-413f-880c-5ad055fbc244",
   "metadata": {
    "tags": []
   },
   "outputs": [
    {
     "name": "stdout",
     "output_type": "stream",
     "text": [
      "\"rerun_ID\" column is dropped since it has same value for all 100,000 instances. (Irrelevant feature for Classification)\n"
     ]
    }
   ],
   "source": [
    "X.drop(columns = 'rerun_ID', inplace = True, axis = 1)\n",
    "print('\\\"rerun_ID\\\" column is dropped since it has same value for all 100,000 instances. (Irrelevant feature for Classification)')"
   ]
  },
  {
   "cell_type": "markdown",
   "id": "7025c1e9-3646-4adc-a07b-5ee7bd9a128b",
   "metadata": {},
   "source": [
    "Step 6: Visualize the modified dataset"
   ]
  },
  {
   "cell_type": "code",
   "execution_count": 22,
   "id": "f439bfa3-cc0b-4ad8-91eb-aa652c8c90e8",
   "metadata": {
    "tags": []
   },
   "outputs": [
    {
     "data": {
      "text/html": [
       "<div>\n",
       "<style scoped>\n",
       "    .dataframe tbody tr th:only-of-type {\n",
       "        vertical-align: middle;\n",
       "    }\n",
       "\n",
       "    .dataframe tbody tr th {\n",
       "        vertical-align: top;\n",
       "    }\n",
       "\n",
       "    .dataframe thead th {\n",
       "        text-align: right;\n",
       "    }\n",
       "</style>\n",
       "<table border=\"1\" class=\"dataframe\">\n",
       "  <thead>\n",
       "    <tr style=\"text-align: right;\">\n",
       "      <th></th>\n",
       "      <th>obj_ID</th>\n",
       "      <th>alpha</th>\n",
       "      <th>delta</th>\n",
       "      <th>u</th>\n",
       "      <th>g</th>\n",
       "      <th>r</th>\n",
       "      <th>i</th>\n",
       "      <th>z</th>\n",
       "      <th>run_ID</th>\n",
       "      <th>cam_col</th>\n",
       "      <th>field_ID</th>\n",
       "      <th>spec_obj_ID</th>\n",
       "      <th>redshift</th>\n",
       "      <th>plate</th>\n",
       "      <th>MJD</th>\n",
       "      <th>fiber_ID</th>\n",
       "    </tr>\n",
       "  </thead>\n",
       "  <tbody>\n",
       "    <tr>\n",
       "      <th>69290</th>\n",
       "      <td>1.237661e+18</td>\n",
       "      <td>131.343533</td>\n",
       "      <td>30.816320</td>\n",
       "      <td>21.99866</td>\n",
       "      <td>21.78298</td>\n",
       "      <td>21.58936</td>\n",
       "      <td>21.20123</td>\n",
       "      <td>21.12445</td>\n",
       "      <td>3560</td>\n",
       "      <td>4</td>\n",
       "      <td>161</td>\n",
       "      <td>1.200791e+19</td>\n",
       "      <td>1.859325</td>\n",
       "      <td>10665</td>\n",
       "      <td>58456</td>\n",
       "      <td>699</td>\n",
       "    </tr>\n",
       "    <tr>\n",
       "      <th>33348</th>\n",
       "      <td>1.237662e+18</td>\n",
       "      <td>179.526653</td>\n",
       "      <td>43.388689</td>\n",
       "      <td>21.15862</td>\n",
       "      <td>20.73885</td>\n",
       "      <td>20.79826</td>\n",
       "      <td>20.71907</td>\n",
       "      <td>20.99504</td>\n",
       "      <td>3840</td>\n",
       "      <td>6</td>\n",
       "      <td>148</td>\n",
       "      <td>7.478283e+18</td>\n",
       "      <td>-0.000249</td>\n",
       "      <td>6642</td>\n",
       "      <td>56396</td>\n",
       "      <td>204</td>\n",
       "    </tr>\n",
       "    <tr>\n",
       "      <th>9221</th>\n",
       "      <td>1.237659e+18</td>\n",
       "      <td>242.516017</td>\n",
       "      <td>37.953707</td>\n",
       "      <td>21.23440</td>\n",
       "      <td>19.99391</td>\n",
       "      <td>19.80719</td>\n",
       "      <td>19.66509</td>\n",
       "      <td>19.87516</td>\n",
       "      <td>3185</td>\n",
       "      <td>4</td>\n",
       "      <td>12</td>\n",
       "      <td>5.854724e+18</td>\n",
       "      <td>-0.001363</td>\n",
       "      <td>5200</td>\n",
       "      <td>56091</td>\n",
       "      <td>160</td>\n",
       "    </tr>\n",
       "    <tr>\n",
       "      <th>40255</th>\n",
       "      <td>1.237679e+18</td>\n",
       "      <td>35.398807</td>\n",
       "      <td>-5.451710</td>\n",
       "      <td>26.88626</td>\n",
       "      <td>21.77774</td>\n",
       "      <td>20.43220</td>\n",
       "      <td>19.60288</td>\n",
       "      <td>19.14694</td>\n",
       "      <td>7881</td>\n",
       "      <td>1</td>\n",
       "      <td>257</td>\n",
       "      <td>4.944046e+18</td>\n",
       "      <td>0.475168</td>\n",
       "      <td>4391</td>\n",
       "      <td>55866</td>\n",
       "      <td>799</td>\n",
       "    </tr>\n",
       "    <tr>\n",
       "      <th>87760</th>\n",
       "      <td>1.237651e+18</td>\n",
       "      <td>126.163550</td>\n",
       "      <td>51.084688</td>\n",
       "      <td>22.12825</td>\n",
       "      <td>21.22433</td>\n",
       "      <td>20.80490</td>\n",
       "      <td>20.55736</td>\n",
       "      <td>20.11810</td>\n",
       "      <td>1402</td>\n",
       "      <td>3</td>\n",
       "      <td>143</td>\n",
       "      <td>4.153450e+18</td>\n",
       "      <td>-0.000151</td>\n",
       "      <td>3689</td>\n",
       "      <td>55180</td>\n",
       "      <td>18</td>\n",
       "    </tr>\n",
       "  </tbody>\n",
       "</table>\n",
       "</div>"
      ],
      "text/plain": [
       "             obj_ID       alpha      delta         u         g         r  \\\n",
       "69290  1.237661e+18  131.343533  30.816320  21.99866  21.78298  21.58936   \n",
       "33348  1.237662e+18  179.526653  43.388689  21.15862  20.73885  20.79826   \n",
       "9221   1.237659e+18  242.516017  37.953707  21.23440  19.99391  19.80719   \n",
       "40255  1.237679e+18   35.398807  -5.451710  26.88626  21.77774  20.43220   \n",
       "87760  1.237651e+18  126.163550  51.084688  22.12825  21.22433  20.80490   \n",
       "\n",
       "              i         z  run_ID  cam_col  field_ID   spec_obj_ID  redshift  \\\n",
       "69290  21.20123  21.12445    3560        4       161  1.200791e+19  1.859325   \n",
       "33348  20.71907  20.99504    3840        6       148  7.478283e+18 -0.000249   \n",
       "9221   19.66509  19.87516    3185        4        12  5.854724e+18 -0.001363   \n",
       "40255  19.60288  19.14694    7881        1       257  4.944046e+18  0.475168   \n",
       "87760  20.55736  20.11810    1402        3       143  4.153450e+18 -0.000151   \n",
       "\n",
       "       plate    MJD  fiber_ID  \n",
       "69290  10665  58456       699  \n",
       "33348   6642  56396       204  \n",
       "9221    5200  56091       160  \n",
       "40255   4391  55866       799  \n",
       "87760   3689  55180        18  "
      ]
     },
     "execution_count": 22,
     "metadata": {},
     "output_type": "execute_result"
    }
   ],
   "source": [
    "X.head(5)"
   ]
  },
  {
   "cell_type": "code",
   "execution_count": 23,
   "id": "b134f5ce-3bc6-4a67-b163-31d1dfe172ba",
   "metadata": {
    "tags": []
   },
   "outputs": [
    {
     "data": {
      "text/html": [
       "<div>\n",
       "<style scoped>\n",
       "    .dataframe tbody tr th:only-of-type {\n",
       "        vertical-align: middle;\n",
       "    }\n",
       "\n",
       "    .dataframe tbody tr th {\n",
       "        vertical-align: top;\n",
       "    }\n",
       "\n",
       "    .dataframe thead th {\n",
       "        text-align: right;\n",
       "    }\n",
       "</style>\n",
       "<table border=\"1\" class=\"dataframe\">\n",
       "  <thead>\n",
       "    <tr style=\"text-align: right;\">\n",
       "      <th></th>\n",
       "      <th>obj_ID</th>\n",
       "      <th>alpha</th>\n",
       "      <th>delta</th>\n",
       "      <th>u</th>\n",
       "      <th>g</th>\n",
       "      <th>r</th>\n",
       "      <th>i</th>\n",
       "      <th>z</th>\n",
       "      <th>run_ID</th>\n",
       "      <th>cam_col</th>\n",
       "      <th>field_ID</th>\n",
       "      <th>spec_obj_ID</th>\n",
       "      <th>redshift</th>\n",
       "      <th>plate</th>\n",
       "      <th>MJD</th>\n",
       "      <th>fiber_ID</th>\n",
       "    </tr>\n",
       "  </thead>\n",
       "  <tbody>\n",
       "    <tr>\n",
       "      <th>count</th>\n",
       "      <td>6.055500e+04</td>\n",
       "      <td>60555.000000</td>\n",
       "      <td>60555.000000</td>\n",
       "      <td>60555.000000</td>\n",
       "      <td>60555.000000</td>\n",
       "      <td>60555.000000</td>\n",
       "      <td>60555.000000</td>\n",
       "      <td>60555.000000</td>\n",
       "      <td>60555.000000</td>\n",
       "      <td>60555.000000</td>\n",
       "      <td>60555.000000</td>\n",
       "      <td>6.055500e+04</td>\n",
       "      <td>60555.000000</td>\n",
       "      <td>60555.000000</td>\n",
       "      <td>60555.000000</td>\n",
       "      <td>60555.000000</td>\n",
       "    </tr>\n",
       "    <tr>\n",
       "      <th>mean</th>\n",
       "      <td>1.237665e+18</td>\n",
       "      <td>177.480080</td>\n",
       "      <td>24.593675</td>\n",
       "      <td>21.576107</td>\n",
       "      <td>20.278970</td>\n",
       "      <td>19.677073</td>\n",
       "      <td>19.229809</td>\n",
       "      <td>18.807049</td>\n",
       "      <td>4453.790224</td>\n",
       "      <td>3.529139</td>\n",
       "      <td>182.934374</td>\n",
       "      <td>5.973661e+18</td>\n",
       "      <td>0.676208</td>\n",
       "      <td>5305.566939</td>\n",
       "      <td>55691.771282</td>\n",
       "      <td>448.332937</td>\n",
       "    </tr>\n",
       "    <tr>\n",
       "      <th>std</th>\n",
       "      <td>8.438805e+12</td>\n",
       "      <td>97.690559</td>\n",
       "      <td>19.823448</td>\n",
       "      <td>40.779603</td>\n",
       "      <td>40.763841</td>\n",
       "      <td>1.841954</td>\n",
       "      <td>1.785051</td>\n",
       "      <td>40.750409</td>\n",
       "      <td>1964.820738</td>\n",
       "      <td>1.596017</td>\n",
       "      <td>145.684996</td>\n",
       "      <td>3.378688e+18</td>\n",
       "      <td>0.900311</td>\n",
       "      <td>3000.861233</td>\n",
       "      <td>1804.300498</td>\n",
       "      <td>272.175620</td>\n",
       "    </tr>\n",
       "    <tr>\n",
       "      <th>min</th>\n",
       "      <td>1.237646e+18</td>\n",
       "      <td>0.005528</td>\n",
       "      <td>-18.785328</td>\n",
       "      <td>-9999.000000</td>\n",
       "      <td>-9999.000000</td>\n",
       "      <td>9.822070</td>\n",
       "      <td>9.469903</td>\n",
       "      <td>-9999.000000</td>\n",
       "      <td>109.000000</td>\n",
       "      <td>1.000000</td>\n",
       "      <td>11.000000</td>\n",
       "      <td>2.995191e+17</td>\n",
       "      <td>-0.009971</td>\n",
       "      <td>266.000000</td>\n",
       "      <td>51608.000000</td>\n",
       "      <td>1.000000</td>\n",
       "    </tr>\n",
       "    <tr>\n",
       "      <th>25%</th>\n",
       "      <td>1.237659e+18</td>\n",
       "      <td>124.844140</td>\n",
       "      <td>5.298090</td>\n",
       "      <td>20.170900</td>\n",
       "      <td>18.977925</td>\n",
       "      <td>18.320365</td>\n",
       "      <td>17.975260</td>\n",
       "      <td>17.720460</td>\n",
       "      <td>3180.000000</td>\n",
       "      <td>2.000000</td>\n",
       "      <td>81.000000</td>\n",
       "      <td>3.014107e+18</td>\n",
       "      <td>0.000037</td>\n",
       "      <td>2677.000000</td>\n",
       "      <td>54479.000000</td>\n",
       "      <td>221.000000</td>\n",
       "    </tr>\n",
       "    <tr>\n",
       "      <th>50%</th>\n",
       "      <td>1.237663e+18</td>\n",
       "      <td>180.749844</td>\n",
       "      <td>24.953229</td>\n",
       "      <td>21.737920</td>\n",
       "      <td>20.825580</td>\n",
       "      <td>20.135200</td>\n",
       "      <td>19.552800</td>\n",
       "      <td>19.200710</td>\n",
       "      <td>4135.000000</td>\n",
       "      <td>4.000000</td>\n",
       "      <td>144.000000</td>\n",
       "      <td>5.764721e+18</td>\n",
       "      <td>0.349427</td>\n",
       "      <td>5120.000000</td>\n",
       "      <td>55931.000000</td>\n",
       "      <td>432.000000</td>\n",
       "    </tr>\n",
       "    <tr>\n",
       "      <th>75%</th>\n",
       "      <td>1.237669e+18</td>\n",
       "      <td>235.875137</td>\n",
       "      <td>40.849544</td>\n",
       "      <td>23.228385</td>\n",
       "      <td>21.853210</td>\n",
       "      <td>21.075530</td>\n",
       "      <td>20.618465</td>\n",
       "      <td>20.330325</td>\n",
       "      <td>5416.000000</td>\n",
       "      <td>5.000000</td>\n",
       "      <td>236.500000</td>\n",
       "      <td>8.620118e+18</td>\n",
       "      <td>1.022588</td>\n",
       "      <td>7656.000000</td>\n",
       "      <td>57040.000000</td>\n",
       "      <td>642.000000</td>\n",
       "    </tr>\n",
       "    <tr>\n",
       "      <th>max</th>\n",
       "      <td>1.237681e+18</td>\n",
       "      <td>359.999810</td>\n",
       "      <td>83.000519</td>\n",
       "      <td>32.781390</td>\n",
       "      <td>30.607000</td>\n",
       "      <td>29.571860</td>\n",
       "      <td>32.141470</td>\n",
       "      <td>29.383740</td>\n",
       "      <td>8162.000000</td>\n",
       "      <td>6.000000</td>\n",
       "      <td>989.000000</td>\n",
       "      <td>1.412694e+19</td>\n",
       "      <td>7.011245</td>\n",
       "      <td>12547.000000</td>\n",
       "      <td>58932.000000</td>\n",
       "      <td>1000.000000</td>\n",
       "    </tr>\n",
       "  </tbody>\n",
       "</table>\n",
       "</div>"
      ],
      "text/plain": [
       "             obj_ID         alpha         delta             u             g  \\\n",
       "count  6.055500e+04  60555.000000  60555.000000  60555.000000  60555.000000   \n",
       "mean   1.237665e+18    177.480080     24.593675     21.576107     20.278970   \n",
       "std    8.438805e+12     97.690559     19.823448     40.779603     40.763841   \n",
       "min    1.237646e+18      0.005528    -18.785328  -9999.000000  -9999.000000   \n",
       "25%    1.237659e+18    124.844140      5.298090     20.170900     18.977925   \n",
       "50%    1.237663e+18    180.749844     24.953229     21.737920     20.825580   \n",
       "75%    1.237669e+18    235.875137     40.849544     23.228385     21.853210   \n",
       "max    1.237681e+18    359.999810     83.000519     32.781390     30.607000   \n",
       "\n",
       "                  r             i             z        run_ID       cam_col  \\\n",
       "count  60555.000000  60555.000000  60555.000000  60555.000000  60555.000000   \n",
       "mean      19.677073     19.229809     18.807049   4453.790224      3.529139   \n",
       "std        1.841954      1.785051     40.750409   1964.820738      1.596017   \n",
       "min        9.822070      9.469903  -9999.000000    109.000000      1.000000   \n",
       "25%       18.320365     17.975260     17.720460   3180.000000      2.000000   \n",
       "50%       20.135200     19.552800     19.200710   4135.000000      4.000000   \n",
       "75%       21.075530     20.618465     20.330325   5416.000000      5.000000   \n",
       "max       29.571860     32.141470     29.383740   8162.000000      6.000000   \n",
       "\n",
       "           field_ID   spec_obj_ID      redshift         plate           MJD  \\\n",
       "count  60555.000000  6.055500e+04  60555.000000  60555.000000  60555.000000   \n",
       "mean     182.934374  5.973661e+18      0.676208   5305.566939  55691.771282   \n",
       "std      145.684996  3.378688e+18      0.900311   3000.861233   1804.300498   \n",
       "min       11.000000  2.995191e+17     -0.009971    266.000000  51608.000000   \n",
       "25%       81.000000  3.014107e+18      0.000037   2677.000000  54479.000000   \n",
       "50%      144.000000  5.764721e+18      0.349427   5120.000000  55931.000000   \n",
       "75%      236.500000  8.620118e+18      1.022588   7656.000000  57040.000000   \n",
       "max      989.000000  1.412694e+19      7.011245  12547.000000  58932.000000   \n",
       "\n",
       "           fiber_ID  \n",
       "count  60555.000000  \n",
       "mean     448.332937  \n",
       "std      272.175620  \n",
       "min        1.000000  \n",
       "25%      221.000000  \n",
       "50%      432.000000  \n",
       "75%      642.000000  \n",
       "max     1000.000000  "
      ]
     },
     "execution_count": 23,
     "metadata": {},
     "output_type": "execute_result"
    }
   ],
   "source": [
    "X.describe()"
   ]
  },
  {
   "cell_type": "markdown",
   "id": "0b27a81f-861a-467f-a1dc-47334966228c",
   "metadata": {},
   "source": [
    "Note: Feature scaling is important here since the attribute values of different attributes differ by huge scale. SO they should be brought to comparable range."
   ]
  },
  {
   "cell_type": "markdown",
   "id": "f0754418-deae-4003-891f-1ff1e8c0da71",
   "metadata": {
    "tags": []
   },
   "source": [
    "Step 7: Perform Feature scaling using Minmax scalar or standardscalar then visualize the dataframe"
   ]
  },
  {
   "cell_type": "code",
   "execution_count": 24,
   "id": "9b68b2b9-e72a-4829-a466-5b0567a1c6dc",
   "metadata": {
    "tags": []
   },
   "outputs": [
    {
     "name": "stdout",
     "output_type": "stream",
     "text": [
      "Index(['obj_ID', 'alpha', 'delta', 'u', 'g', 'r', 'i', 'z', 'run_ID',\n",
      "       'cam_col', 'field_ID', 'spec_obj_ID', 'redshift', 'plate', 'MJD',\n",
      "       'fiber_ID'],\n",
      "      dtype='object')\n"
     ]
    }
   ],
   "source": [
    "columns1 = X.columns\n",
    "print(columns1)"
   ]
  },
  {
   "cell_type": "code",
   "execution_count": 25,
   "id": "9b6550cd-647e-40f9-a6b2-c43c9b5e0999",
   "metadata": {
    "tags": []
   },
   "outputs": [],
   "source": [
    "scalar = StandardScaler()\n",
    "X = scalar.fit_transform(X)"
   ]
  },
  {
   "cell_type": "code",
   "execution_count": 26,
   "id": "802b2f96-8390-4dfc-bc38-6c4dca4f06ec",
   "metadata": {
    "tags": []
   },
   "outputs": [],
   "source": [
    "X = pd.DataFrame(X, columns = columns1)"
   ]
  },
  {
   "cell_type": "code",
   "execution_count": 27,
   "id": "1ec6c1b5-20b1-4c6c-8616-26528e48195e",
   "metadata": {
    "tags": []
   },
   "outputs": [
    {
     "data": {
      "text/html": [
       "<div>\n",
       "<style scoped>\n",
       "    .dataframe tbody tr th:only-of-type {\n",
       "        vertical-align: middle;\n",
       "    }\n",
       "\n",
       "    .dataframe tbody tr th {\n",
       "        vertical-align: top;\n",
       "    }\n",
       "\n",
       "    .dataframe thead th {\n",
       "        text-align: right;\n",
       "    }\n",
       "</style>\n",
       "<table border=\"1\" class=\"dataframe\">\n",
       "  <thead>\n",
       "    <tr style=\"text-align: right;\">\n",
       "      <th></th>\n",
       "      <th>obj_ID</th>\n",
       "      <th>alpha</th>\n",
       "      <th>delta</th>\n",
       "      <th>u</th>\n",
       "      <th>g</th>\n",
       "      <th>r</th>\n",
       "      <th>i</th>\n",
       "      <th>z</th>\n",
       "      <th>run_ID</th>\n",
       "      <th>cam_col</th>\n",
       "      <th>field_ID</th>\n",
       "      <th>spec_obj_ID</th>\n",
       "      <th>redshift</th>\n",
       "      <th>plate</th>\n",
       "      <th>MJD</th>\n",
       "      <th>fiber_ID</th>\n",
       "    </tr>\n",
       "  </thead>\n",
       "  <tbody>\n",
       "    <tr>\n",
       "      <th>0</th>\n",
       "      <td>-0.454872</td>\n",
       "      <td>-0.472276</td>\n",
       "      <td>0.313906</td>\n",
       "      <td>0.010362</td>\n",
       "      <td>0.036896</td>\n",
       "      <td>1.038193</td>\n",
       "      <td>1.104415</td>\n",
       "      <td>0.056869</td>\n",
       "      <td>-0.454900</td>\n",
       "      <td>0.295025</td>\n",
       "      <td>-0.150562</td>\n",
       "      <td>1.785990</td>\n",
       "      <td>1.314132</td>\n",
       "      <td>1.785980</td>\n",
       "      <td>1.532035</td>\n",
       "      <td>0.920983</td>\n",
       "    </tr>\n",
       "    <tr>\n",
       "      <th>1</th>\n",
       "      <td>-0.312237</td>\n",
       "      <td>0.020950</td>\n",
       "      <td>0.948128</td>\n",
       "      <td>-0.010238</td>\n",
       "      <td>0.011282</td>\n",
       "      <td>0.608700</td>\n",
       "      <td>0.834303</td>\n",
       "      <td>0.053693</td>\n",
       "      <td>-0.312393</td>\n",
       "      <td>1.548155</td>\n",
       "      <td>-0.239796</td>\n",
       "      <td>0.445331</td>\n",
       "      <td>-0.751365</td>\n",
       "      <td>0.445354</td>\n",
       "      <td>0.390309</td>\n",
       "      <td>-0.897711</td>\n",
       "    </tr>\n",
       "    <tr>\n",
       "      <th>2</th>\n",
       "      <td>-0.645733</td>\n",
       "      <td>0.665740</td>\n",
       "      <td>0.673957</td>\n",
       "      <td>-0.008379</td>\n",
       "      <td>-0.006993</td>\n",
       "      <td>0.070641</td>\n",
       "      <td>0.243850</td>\n",
       "      <td>0.026211</td>\n",
       "      <td>-0.645759</td>\n",
       "      <td>0.295025</td>\n",
       "      <td>-1.173325</td>\n",
       "      <td>-0.035202</td>\n",
       "      <td>-0.752603</td>\n",
       "      <td>-0.035179</td>\n",
       "      <td>0.221267</td>\n",
       "      <td>-1.059372</td>\n",
       "    </tr>\n",
       "    <tr>\n",
       "      <th>3</th>\n",
       "      <td>1.744148</td>\n",
       "      <td>-1.454413</td>\n",
       "      <td>-1.515661</td>\n",
       "      <td>0.130217</td>\n",
       "      <td>0.036767</td>\n",
       "      <td>0.409963</td>\n",
       "      <td>0.208999</td>\n",
       "      <td>0.008341</td>\n",
       "      <td>1.744301</td>\n",
       "      <td>-1.584670</td>\n",
       "      <td>0.508400</td>\n",
       "      <td>-0.304740</td>\n",
       "      <td>-0.223302</td>\n",
       "      <td>-0.304771</td>\n",
       "      <td>0.096564</td>\n",
       "      <td>1.288396</td>\n",
       "    </tr>\n",
       "    <tr>\n",
       "      <th>4</th>\n",
       "      <td>-1.553269</td>\n",
       "      <td>-0.525301</td>\n",
       "      <td>1.336358</td>\n",
       "      <td>0.013540</td>\n",
       "      <td>0.023191</td>\n",
       "      <td>0.612305</td>\n",
       "      <td>0.743711</td>\n",
       "      <td>0.032173</td>\n",
       "      <td>-1.553228</td>\n",
       "      <td>-0.331540</td>\n",
       "      <td>-0.274117</td>\n",
       "      <td>-0.538738</td>\n",
       "      <td>-0.751256</td>\n",
       "      <td>-0.538705</td>\n",
       "      <td>-0.283642</td>\n",
       "      <td>-1.581099</td>\n",
       "    </tr>\n",
       "    <tr>\n",
       "      <th>...</th>\n",
       "      <td>...</td>\n",
       "      <td>...</td>\n",
       "      <td>...</td>\n",
       "      <td>...</td>\n",
       "      <td>...</td>\n",
       "      <td>...</td>\n",
       "      <td>...</td>\n",
       "      <td>...</td>\n",
       "      <td>...</td>\n",
       "      <td>...</td>\n",
       "      <td>...</td>\n",
       "      <td>...</td>\n",
       "      <td>...</td>\n",
       "      <td>...</td>\n",
       "      <td>...</td>\n",
       "      <td>...</td>\n",
       "    </tr>\n",
       "    <tr>\n",
       "      <th>60550</th>\n",
       "      <td>0.441785</td>\n",
       "      <td>0.450618</td>\n",
       "      <td>-0.548529</td>\n",
       "      <td>-0.057743</td>\n",
       "      <td>-0.060370</td>\n",
       "      <td>-1.280967</td>\n",
       "      <td>-1.222327</td>\n",
       "      <td>-0.047908</td>\n",
       "      <td>0.441881</td>\n",
       "      <td>-0.958105</td>\n",
       "      <td>-0.706560</td>\n",
       "      <td>-0.851625</td>\n",
       "      <td>-0.719041</td>\n",
       "      <td>-0.851618</td>\n",
       "      <td>-0.803515</td>\n",
       "      <td>-0.500905</td>\n",
       "    </tr>\n",
       "    <tr>\n",
       "      <th>60551</th>\n",
       "      <td>1.887291</td>\n",
       "      <td>1.685114</td>\n",
       "      <td>0.170311</td>\n",
       "      <td>-0.037913</td>\n",
       "      <td>-0.017286</td>\n",
       "      <td>-0.187244</td>\n",
       "      <td>-0.063908</td>\n",
       "      <td>0.004717</td>\n",
       "      <td>1.887317</td>\n",
       "      <td>-0.331540</td>\n",
       "      <td>-0.287845</td>\n",
       "      <td>0.781888</td>\n",
       "      <td>1.148032</td>\n",
       "      <td>0.781926</td>\n",
       "      <td>1.045970</td>\n",
       "      <td>-1.537009</td>\n",
       "    </tr>\n",
       "    <tr>\n",
       "      <th>60552</th>\n",
       "      <td>-0.097264</td>\n",
       "      <td>-1.447016</td>\n",
       "      <td>-1.301608</td>\n",
       "      <td>0.009940</td>\n",
       "      <td>0.044176</td>\n",
       "      <td>1.218438</td>\n",
       "      <td>1.266306</td>\n",
       "      <td>0.065678</td>\n",
       "      <td>-0.097104</td>\n",
       "      <td>-1.584670</td>\n",
       "      <td>1.194818</td>\n",
       "      <td>0.675952</td>\n",
       "      <td>1.050537</td>\n",
       "      <td>0.675956</td>\n",
       "      <td>0.534410</td>\n",
       "      <td>-0.026942</td>\n",
       "    </tr>\n",
       "    <tr>\n",
       "      <th>60553</th>\n",
       "      <td>0.371105</td>\n",
       "      <td>0.060103</td>\n",
       "      <td>-0.113834</td>\n",
       "      <td>-0.048748</td>\n",
       "      <td>-0.042262</td>\n",
       "      <td>-0.828113</td>\n",
       "      <td>-0.695509</td>\n",
       "      <td>-0.022191</td>\n",
       "      <td>0.371136</td>\n",
       "      <td>-0.331540</td>\n",
       "      <td>1.071263</td>\n",
       "      <td>-0.886967</td>\n",
       "      <td>-0.750285</td>\n",
       "      <td>-0.886942</td>\n",
       "      <td>-0.821251</td>\n",
       "      <td>-1.367999</td>\n",
       "    </tr>\n",
       "    <tr>\n",
       "      <th>60554</th>\n",
       "      <td>-0.826604</td>\n",
       "      <td>-0.639457</td>\n",
       "      <td>-0.118373</td>\n",
       "      <td>-0.028504</td>\n",
       "      <td>-0.042066</td>\n",
       "      <td>-1.099050</td>\n",
       "      <td>-1.120626</td>\n",
       "      <td>-0.046922</td>\n",
       "      <td>-0.826439</td>\n",
       "      <td>-1.584670</td>\n",
       "      <td>-1.145868</td>\n",
       "      <td>-1.459123</td>\n",
       "      <td>-0.663562</td>\n",
       "      <td>-1.459115</td>\n",
       "      <td>-1.726318</td>\n",
       "      <td>-0.714004</td>\n",
       "    </tr>\n",
       "  </tbody>\n",
       "</table>\n",
       "<p>60555 rows × 16 columns</p>\n",
       "</div>"
      ],
      "text/plain": [
       "         obj_ID     alpha     delta         u         g         r         i  \\\n",
       "0     -0.454872 -0.472276  0.313906  0.010362  0.036896  1.038193  1.104415   \n",
       "1     -0.312237  0.020950  0.948128 -0.010238  0.011282  0.608700  0.834303   \n",
       "2     -0.645733  0.665740  0.673957 -0.008379 -0.006993  0.070641  0.243850   \n",
       "3      1.744148 -1.454413 -1.515661  0.130217  0.036767  0.409963  0.208999   \n",
       "4     -1.553269 -0.525301  1.336358  0.013540  0.023191  0.612305  0.743711   \n",
       "...         ...       ...       ...       ...       ...       ...       ...   \n",
       "60550  0.441785  0.450618 -0.548529 -0.057743 -0.060370 -1.280967 -1.222327   \n",
       "60551  1.887291  1.685114  0.170311 -0.037913 -0.017286 -0.187244 -0.063908   \n",
       "60552 -0.097264 -1.447016 -1.301608  0.009940  0.044176  1.218438  1.266306   \n",
       "60553  0.371105  0.060103 -0.113834 -0.048748 -0.042262 -0.828113 -0.695509   \n",
       "60554 -0.826604 -0.639457 -0.118373 -0.028504 -0.042066 -1.099050 -1.120626   \n",
       "\n",
       "              z    run_ID   cam_col  field_ID  spec_obj_ID  redshift  \\\n",
       "0      0.056869 -0.454900  0.295025 -0.150562     1.785990  1.314132   \n",
       "1      0.053693 -0.312393  1.548155 -0.239796     0.445331 -0.751365   \n",
       "2      0.026211 -0.645759  0.295025 -1.173325    -0.035202 -0.752603   \n",
       "3      0.008341  1.744301 -1.584670  0.508400    -0.304740 -0.223302   \n",
       "4      0.032173 -1.553228 -0.331540 -0.274117    -0.538738 -0.751256   \n",
       "...         ...       ...       ...       ...          ...       ...   \n",
       "60550 -0.047908  0.441881 -0.958105 -0.706560    -0.851625 -0.719041   \n",
       "60551  0.004717  1.887317 -0.331540 -0.287845     0.781888  1.148032   \n",
       "60552  0.065678 -0.097104 -1.584670  1.194818     0.675952  1.050537   \n",
       "60553 -0.022191  0.371136 -0.331540  1.071263    -0.886967 -0.750285   \n",
       "60554 -0.046922 -0.826439 -1.584670 -1.145868    -1.459123 -0.663562   \n",
       "\n",
       "          plate       MJD  fiber_ID  \n",
       "0      1.785980  1.532035  0.920983  \n",
       "1      0.445354  0.390309 -0.897711  \n",
       "2     -0.035179  0.221267 -1.059372  \n",
       "3     -0.304771  0.096564  1.288396  \n",
       "4     -0.538705 -0.283642 -1.581099  \n",
       "...         ...       ...       ...  \n",
       "60550 -0.851618 -0.803515 -0.500905  \n",
       "60551  0.781926  1.045970 -1.537009  \n",
       "60552  0.675956  0.534410 -0.026942  \n",
       "60553 -0.886942 -0.821251 -1.367999  \n",
       "60554 -1.459115 -1.726318 -0.714004  \n",
       "\n",
       "[60555 rows x 16 columns]"
      ]
     },
     "execution_count": 27,
     "metadata": {},
     "output_type": "execute_result"
    }
   ],
   "source": [
    "X"
   ]
  },
  {
   "cell_type": "code",
   "execution_count": 28,
   "id": "03c9142d-631d-40d9-adbb-bdfa83098019",
   "metadata": {
    "tags": []
   },
   "outputs": [
    {
     "data": {
      "text/html": [
       "<div>\n",
       "<style scoped>\n",
       "    .dataframe tbody tr th:only-of-type {\n",
       "        vertical-align: middle;\n",
       "    }\n",
       "\n",
       "    .dataframe tbody tr th {\n",
       "        vertical-align: top;\n",
       "    }\n",
       "\n",
       "    .dataframe thead th {\n",
       "        text-align: right;\n",
       "    }\n",
       "</style>\n",
       "<table border=\"1\" class=\"dataframe\">\n",
       "  <thead>\n",
       "    <tr style=\"text-align: right;\">\n",
       "      <th></th>\n",
       "      <th>obj_ID</th>\n",
       "      <th>alpha</th>\n",
       "      <th>delta</th>\n",
       "      <th>u</th>\n",
       "      <th>g</th>\n",
       "      <th>r</th>\n",
       "      <th>i</th>\n",
       "      <th>z</th>\n",
       "      <th>run_ID</th>\n",
       "      <th>cam_col</th>\n",
       "      <th>field_ID</th>\n",
       "      <th>spec_obj_ID</th>\n",
       "      <th>redshift</th>\n",
       "      <th>plate</th>\n",
       "      <th>MJD</th>\n",
       "      <th>fiber_ID</th>\n",
       "    </tr>\n",
       "  </thead>\n",
       "  <tbody>\n",
       "    <tr>\n",
       "      <th>count</th>\n",
       "      <td>6.055500e+04</td>\n",
       "      <td>6.055500e+04</td>\n",
       "      <td>6.055500e+04</td>\n",
       "      <td>6.055500e+04</td>\n",
       "      <td>6.055500e+04</td>\n",
       "      <td>6.055500e+04</td>\n",
       "      <td>6.055500e+04</td>\n",
       "      <td>6.055500e+04</td>\n",
       "      <td>6.055500e+04</td>\n",
       "      <td>6.055500e+04</td>\n",
       "      <td>6.055500e+04</td>\n",
       "      <td>6.055500e+04</td>\n",
       "      <td>6.055500e+04</td>\n",
       "      <td>6.055500e+04</td>\n",
       "      <td>6.055500e+04</td>\n",
       "      <td>6.055500e+04</td>\n",
       "    </tr>\n",
       "    <tr>\n",
       "      <th>mean</th>\n",
       "      <td>-4.326386e-12</td>\n",
       "      <td>-1.724875e-17</td>\n",
       "      <td>3.402814e-18</td>\n",
       "      <td>7.615263e-17</td>\n",
       "      <td>-3.388147e-17</td>\n",
       "      <td>-3.040238e-16</td>\n",
       "      <td>1.491958e-15</td>\n",
       "      <td>2.141426e-17</td>\n",
       "      <td>1.408061e-18</td>\n",
       "      <td>-4.652468e-17</td>\n",
       "      <td>1.443262e-17</td>\n",
       "      <td>5.069019e-17</td>\n",
       "      <td>3.250274e-17</td>\n",
       "      <td>1.595802e-17</td>\n",
       "      <td>-1.167752e-15</td>\n",
       "      <td>-6.782160e-17</td>\n",
       "    </tr>\n",
       "    <tr>\n",
       "      <th>std</th>\n",
       "      <td>1.000008e+00</td>\n",
       "      <td>1.000008e+00</td>\n",
       "      <td>1.000008e+00</td>\n",
       "      <td>1.000008e+00</td>\n",
       "      <td>1.000008e+00</td>\n",
       "      <td>1.000008e+00</td>\n",
       "      <td>1.000008e+00</td>\n",
       "      <td>1.000008e+00</td>\n",
       "      <td>1.000008e+00</td>\n",
       "      <td>1.000008e+00</td>\n",
       "      <td>1.000008e+00</td>\n",
       "      <td>1.000008e+00</td>\n",
       "      <td>1.000008e+00</td>\n",
       "      <td>1.000008e+00</td>\n",
       "      <td>1.000008e+00</td>\n",
       "      <td>1.000008e+00</td>\n",
       "    </tr>\n",
       "    <tr>\n",
       "      <th>min</th>\n",
       "      <td>-2.211289e+00</td>\n",
       "      <td>-1.816716e+00</td>\n",
       "      <td>-2.188285e+00</td>\n",
       "      <td>-2.457272e+02</td>\n",
       "      <td>-2.457904e+02</td>\n",
       "      <td>-5.350343e+00</td>\n",
       "      <td>-5.467623e+00</td>\n",
       "      <td>-2.458353e+02</td>\n",
       "      <td>-2.211309e+00</td>\n",
       "      <td>-1.584670e+00</td>\n",
       "      <td>-1.180189e+00</td>\n",
       "      <td>-1.679406e+00</td>\n",
       "      <td>-7.621638e-01</td>\n",
       "      <td>-1.679387e+00</td>\n",
       "      <td>-2.263373e+00</td>\n",
       "      <td>-1.643559e+00</td>\n",
       "    </tr>\n",
       "    <tr>\n",
       "      <th>25%</th>\n",
       "      <td>-6.484045e-01</td>\n",
       "      <td>-5.388072e-01</td>\n",
       "      <td>-9.733798e-01</td>\n",
       "      <td>-3.445885e-02</td>\n",
       "      <td>-3.191690e-02</td>\n",
       "      <td>-7.365652e-01</td>\n",
       "      <td>-7.028141e-01</td>\n",
       "      <td>-2.666471e-02</td>\n",
       "      <td>-6.483038e-01</td>\n",
       "      <td>-9.581049e-01</td>\n",
       "      <td>-6.996960e-01</td>\n",
       "      <td>-8.759548e-01</td>\n",
       "      <td>-7.510480e-01</td>\n",
       "      <td>-8.759448e-01</td>\n",
       "      <td>-6.721615e-01</td>\n",
       "      <td>-8.352505e-01</td>\n",
       "    </tr>\n",
       "    <tr>\n",
       "      <th>50%</th>\n",
       "      <td>-1.624125e-01</td>\n",
       "      <td>3.347089e-02</td>\n",
       "      <td>1.813796e-02</td>\n",
       "      <td>3.968028e-03</td>\n",
       "      <td>1.340931e-02</td>\n",
       "      <td>2.487202e-01</td>\n",
       "      <td>1.809439e-01</td>\n",
       "      <td>9.660382e-03</td>\n",
       "      <td>-1.622504e-01</td>\n",
       "      <td>2.950252e-01</td>\n",
       "      <td>-2.672526e-01</td>\n",
       "      <td>-6.184103e-02</td>\n",
       "      <td>-3.629680e-01</td>\n",
       "      <td>-6.183840e-02</td>\n",
       "      <td>1.325892e-01</td>\n",
       "      <td>-6.000931e-02</td>\n",
       "    </tr>\n",
       "    <tr>\n",
       "      <th>75%</th>\n",
       "      <td>4.898182e-01</td>\n",
       "      <td>5.977603e-01</td>\n",
       "      <td>8.200391e-01</td>\n",
       "      <td>4.051761e-02</td>\n",
       "      <td>3.861887e-02</td>\n",
       "      <td>7.592312e-01</td>\n",
       "      <td>7.779430e-01</td>\n",
       "      <td>3.738095e-02</td>\n",
       "      <td>4.897229e-01</td>\n",
       "      <td>9.215902e-01</td>\n",
       "      <td>3.676842e-01</td>\n",
       "      <td>7.832861e-01</td>\n",
       "      <td>3.847376e-01</td>\n",
       "      <td>7.832593e-01</td>\n",
       "      <td>7.472369e-01</td>\n",
       "      <td>7.115577e-01</td>\n",
       "    </tr>\n",
       "    <tr>\n",
       "      <th>max</th>\n",
       "      <td>1.887483e+00</td>\n",
       "      <td>1.868361e+00</td>\n",
       "      <td>2.946376e+00</td>\n",
       "      <td>2.747789e-01</td>\n",
       "      <td>2.533646e-01</td>\n",
       "      <td>5.371942e+00</td>\n",
       "      <td>7.233277e+00</td>\n",
       "      <td>2.595502e-01</td>\n",
       "      <td>1.887317e+00</td>\n",
       "      <td>1.548155e+00</td>\n",
       "      <td>5.532981e+00</td>\n",
       "      <td>2.413170e+00</td>\n",
       "      <td>7.036559e+00</td>\n",
       "      <td>2.413138e+00</td>\n",
       "      <td>1.795851e+00</td>\n",
       "      <td>2.026896e+00</td>\n",
       "    </tr>\n",
       "  </tbody>\n",
       "</table>\n",
       "</div>"
      ],
      "text/plain": [
       "             obj_ID         alpha         delta             u             g  \\\n",
       "count  6.055500e+04  6.055500e+04  6.055500e+04  6.055500e+04  6.055500e+04   \n",
       "mean  -4.326386e-12 -1.724875e-17  3.402814e-18  7.615263e-17 -3.388147e-17   \n",
       "std    1.000008e+00  1.000008e+00  1.000008e+00  1.000008e+00  1.000008e+00   \n",
       "min   -2.211289e+00 -1.816716e+00 -2.188285e+00 -2.457272e+02 -2.457904e+02   \n",
       "25%   -6.484045e-01 -5.388072e-01 -9.733798e-01 -3.445885e-02 -3.191690e-02   \n",
       "50%   -1.624125e-01  3.347089e-02  1.813796e-02  3.968028e-03  1.340931e-02   \n",
       "75%    4.898182e-01  5.977603e-01  8.200391e-01  4.051761e-02  3.861887e-02   \n",
       "max    1.887483e+00  1.868361e+00  2.946376e+00  2.747789e-01  2.533646e-01   \n",
       "\n",
       "                  r             i             z        run_ID       cam_col  \\\n",
       "count  6.055500e+04  6.055500e+04  6.055500e+04  6.055500e+04  6.055500e+04   \n",
       "mean  -3.040238e-16  1.491958e-15  2.141426e-17  1.408061e-18 -4.652468e-17   \n",
       "std    1.000008e+00  1.000008e+00  1.000008e+00  1.000008e+00  1.000008e+00   \n",
       "min   -5.350343e+00 -5.467623e+00 -2.458353e+02 -2.211309e+00 -1.584670e+00   \n",
       "25%   -7.365652e-01 -7.028141e-01 -2.666471e-02 -6.483038e-01 -9.581049e-01   \n",
       "50%    2.487202e-01  1.809439e-01  9.660382e-03 -1.622504e-01  2.950252e-01   \n",
       "75%    7.592312e-01  7.779430e-01  3.738095e-02  4.897229e-01  9.215902e-01   \n",
       "max    5.371942e+00  7.233277e+00  2.595502e-01  1.887317e+00  1.548155e+00   \n",
       "\n",
       "           field_ID   spec_obj_ID      redshift         plate           MJD  \\\n",
       "count  6.055500e+04  6.055500e+04  6.055500e+04  6.055500e+04  6.055500e+04   \n",
       "mean   1.443262e-17  5.069019e-17  3.250274e-17  1.595802e-17 -1.167752e-15   \n",
       "std    1.000008e+00  1.000008e+00  1.000008e+00  1.000008e+00  1.000008e+00   \n",
       "min   -1.180189e+00 -1.679406e+00 -7.621638e-01 -1.679387e+00 -2.263373e+00   \n",
       "25%   -6.996960e-01 -8.759548e-01 -7.510480e-01 -8.759448e-01 -6.721615e-01   \n",
       "50%   -2.672526e-01 -6.184103e-02 -3.629680e-01 -6.183840e-02  1.325892e-01   \n",
       "75%    3.676842e-01  7.832861e-01  3.847376e-01  7.832593e-01  7.472369e-01   \n",
       "max    5.532981e+00  2.413170e+00  7.036559e+00  2.413138e+00  1.795851e+00   \n",
       "\n",
       "           fiber_ID  \n",
       "count  6.055500e+04  \n",
       "mean  -6.782160e-17  \n",
       "std    1.000008e+00  \n",
       "min   -1.643559e+00  \n",
       "25%   -8.352505e-01  \n",
       "50%   -6.000931e-02  \n",
       "75%    7.115577e-01  \n",
       "max    2.026896e+00  "
      ]
     },
     "execution_count": 28,
     "metadata": {},
     "output_type": "execute_result"
    }
   ],
   "source": [
    "X.describe()"
   ]
  },
  {
   "cell_type": "markdown",
   "id": "38a3ead8-f66b-474b-9c5c-9302846f1c28",
   "metadata": {},
   "source": [
    "Step 8: Split the dataset into training and testing set, initiate the KNN model (DEFAULT), train the model and inference"
   ]
  },
  {
   "cell_type": "code",
   "execution_count": 29,
   "id": "fdafa726-cc84-4b31-98d6-27bf85ad3801",
   "metadata": {
    "tags": []
   },
   "outputs": [],
   "source": [
    "X_train, X_test, y_train, y_test = train_test_split(X, y, test_size= .2, random_state= 43)"
   ]
  },
  {
   "cell_type": "code",
   "execution_count": 30,
   "id": "08dbb91e-3479-4b22-abf5-ce9d704ec0b0",
   "metadata": {
    "tags": []
   },
   "outputs": [],
   "source": [
    "model = KNeighborsClassifier()"
   ]
  },
  {
   "cell_type": "code",
   "execution_count": 31,
   "id": "c8b1c67c-9f27-4ec1-9cf7-66c884918da7",
   "metadata": {
    "tags": []
   },
   "outputs": [
    {
     "data": {
      "text/plain": [
       "{'algorithm': 'auto',\n",
       " 'leaf_size': 30,\n",
       " 'metric': 'minkowski',\n",
       " 'metric_params': None,\n",
       " 'n_jobs': None,\n",
       " 'n_neighbors': 5,\n",
       " 'p': 2,\n",
       " 'weights': 'uniform'}"
      ]
     },
     "execution_count": 31,
     "metadata": {},
     "output_type": "execute_result"
    }
   ],
   "source": [
    "model.get_params()"
   ]
  },
  {
   "cell_type": "code",
   "execution_count": 32,
   "id": "c460a766-0e0a-49b8-be56-dbf1489ba675",
   "metadata": {
    "tags": []
   },
   "outputs": [
    {
     "data": {
      "text/html": [
       "<style>#sk-container-id-2 {color: black;background-color: white;}#sk-container-id-2 pre{padding: 0;}#sk-container-id-2 div.sk-toggleable {background-color: white;}#sk-container-id-2 label.sk-toggleable__label {cursor: pointer;display: block;width: 100%;margin-bottom: 0;padding: 0.3em;box-sizing: border-box;text-align: center;}#sk-container-id-2 label.sk-toggleable__label-arrow:before {content: \"▸\";float: left;margin-right: 0.25em;color: #696969;}#sk-container-id-2 label.sk-toggleable__label-arrow:hover:before {color: black;}#sk-container-id-2 div.sk-estimator:hover label.sk-toggleable__label-arrow:before {color: black;}#sk-container-id-2 div.sk-toggleable__content {max-height: 0;max-width: 0;overflow: hidden;text-align: left;background-color: #f0f8ff;}#sk-container-id-2 div.sk-toggleable__content pre {margin: 0.2em;color: black;border-radius: 0.25em;background-color: #f0f8ff;}#sk-container-id-2 input.sk-toggleable__control:checked~div.sk-toggleable__content {max-height: 200px;max-width: 100%;overflow: auto;}#sk-container-id-2 input.sk-toggleable__control:checked~label.sk-toggleable__label-arrow:before {content: \"▾\";}#sk-container-id-2 div.sk-estimator input.sk-toggleable__control:checked~label.sk-toggleable__label {background-color: #d4ebff;}#sk-container-id-2 div.sk-label input.sk-toggleable__control:checked~label.sk-toggleable__label {background-color: #d4ebff;}#sk-container-id-2 input.sk-hidden--visually {border: 0;clip: rect(1px 1px 1px 1px);clip: rect(1px, 1px, 1px, 1px);height: 1px;margin: -1px;overflow: hidden;padding: 0;position: absolute;width: 1px;}#sk-container-id-2 div.sk-estimator {font-family: monospace;background-color: #f0f8ff;border: 1px dotted black;border-radius: 0.25em;box-sizing: border-box;margin-bottom: 0.5em;}#sk-container-id-2 div.sk-estimator:hover {background-color: #d4ebff;}#sk-container-id-2 div.sk-parallel-item::after {content: \"\";width: 100%;border-bottom: 1px solid gray;flex-grow: 1;}#sk-container-id-2 div.sk-label:hover label.sk-toggleable__label {background-color: #d4ebff;}#sk-container-id-2 div.sk-serial::before {content: \"\";position: absolute;border-left: 1px solid gray;box-sizing: border-box;top: 0;bottom: 0;left: 50%;z-index: 0;}#sk-container-id-2 div.sk-serial {display: flex;flex-direction: column;align-items: center;background-color: white;padding-right: 0.2em;padding-left: 0.2em;position: relative;}#sk-container-id-2 div.sk-item {position: relative;z-index: 1;}#sk-container-id-2 div.sk-parallel {display: flex;align-items: stretch;justify-content: center;background-color: white;position: relative;}#sk-container-id-2 div.sk-item::before, #sk-container-id-2 div.sk-parallel-item::before {content: \"\";position: absolute;border-left: 1px solid gray;box-sizing: border-box;top: 0;bottom: 0;left: 50%;z-index: -1;}#sk-container-id-2 div.sk-parallel-item {display: flex;flex-direction: column;z-index: 1;position: relative;background-color: white;}#sk-container-id-2 div.sk-parallel-item:first-child::after {align-self: flex-end;width: 50%;}#sk-container-id-2 div.sk-parallel-item:last-child::after {align-self: flex-start;width: 50%;}#sk-container-id-2 div.sk-parallel-item:only-child::after {width: 0;}#sk-container-id-2 div.sk-dashed-wrapped {border: 1px dashed gray;margin: 0 0.4em 0.5em 0.4em;box-sizing: border-box;padding-bottom: 0.4em;background-color: white;}#sk-container-id-2 div.sk-label label {font-family: monospace;font-weight: bold;display: inline-block;line-height: 1.2em;}#sk-container-id-2 div.sk-label-container {text-align: center;}#sk-container-id-2 div.sk-container {/* jupyter's `normalize.less` sets `[hidden] { display: none; }` but bootstrap.min.css set `[hidden] { display: none !important; }` so we also need the `!important` here to be able to override the default hidden behavior on the sphinx rendered scikit-learn.org. See: https://github.com/scikit-learn/scikit-learn/issues/21755 */display: inline-block !important;position: relative;}#sk-container-id-2 div.sk-text-repr-fallback {display: none;}</style><div id=\"sk-container-id-2\" class=\"sk-top-container\"><div class=\"sk-text-repr-fallback\"><pre>KNeighborsClassifier()</pre><b>In a Jupyter environment, please rerun this cell to show the HTML representation or trust the notebook. <br />On GitHub, the HTML representation is unable to render, please try loading this page with nbviewer.org.</b></div><div class=\"sk-container\" hidden><div class=\"sk-item\"><div class=\"sk-estimator sk-toggleable\"><input class=\"sk-toggleable__control sk-hidden--visually\" id=\"sk-estimator-id-2\" type=\"checkbox\" checked><label for=\"sk-estimator-id-2\" class=\"sk-toggleable__label sk-toggleable__label-arrow\">KNeighborsClassifier</label><div class=\"sk-toggleable__content\"><pre>KNeighborsClassifier()</pre></div></div></div></div></div>"
      ],
      "text/plain": [
       "KNeighborsClassifier()"
      ]
     },
     "execution_count": 32,
     "metadata": {},
     "output_type": "execute_result"
    }
   ],
   "source": [
    "model.fit(X_train, y_train)"
   ]
  },
  {
   "cell_type": "code",
   "execution_count": 33,
   "id": "7ddb4b60-ff4c-4671-a081-bbf1b0ebc6ac",
   "metadata": {
    "tags": []
   },
   "outputs": [
    {
     "data": {
      "text/plain": [
       "array([0, 0, 0, ..., 0, 0, 2])"
      ]
     },
     "execution_count": 33,
     "metadata": {},
     "output_type": "execute_result"
    }
   ],
   "source": [
    "predictions = model.predict(X_test)\n",
    "predictions"
   ]
  },
  {
   "cell_type": "code",
   "execution_count": 34,
   "id": "6e74ef30-7e8a-4618-af3f-58c251ab147b",
   "metadata": {
    "tags": []
   },
   "outputs": [
    {
     "data": {
      "text/plain": [
       "15538    0\n",
       "42406    2\n",
       "39363    0\n",
       "74679    0\n",
       "90241    1\n",
       "        ..\n",
       "67811    0\n",
       "92502    2\n",
       "86493    0\n",
       "51923    0\n",
       "7228     0\n",
       "Name: label, Length: 12111, dtype: int32"
      ]
     },
     "execution_count": 34,
     "metadata": {},
     "output_type": "execute_result"
    }
   ],
   "source": [
    "y_test"
   ]
  },
  {
   "cell_type": "markdown",
   "id": "c82fb616-6f7c-42ee-8821-a1a1174195ee",
   "metadata": {},
   "source": [
    "Step 9: Confusion Matrix and Classification report"
   ]
  },
  {
   "cell_type": "code",
   "execution_count": 35,
   "id": "a36ffdb7-0413-460b-849a-5f537db1c448",
   "metadata": {
    "tags": []
   },
   "outputs": [],
   "source": [
    "cm = confusion_matrix(predictions, y_test)"
   ]
  },
  {
   "cell_type": "code",
   "execution_count": 36,
   "id": "646d8c88-fea9-45bc-8fb3-da801e3286b4",
   "metadata": {
    "tags": []
   },
   "outputs": [
    {
     "data": {
      "text/plain": [
       "array([[3612,  465,  598],\n",
       "       [ 127, 3201,   27],\n",
       "       [ 302,   92, 3687]], dtype=int64)"
      ]
     },
     "execution_count": 36,
     "metadata": {},
     "output_type": "execute_result"
    }
   ],
   "source": [
    "cm"
   ]
  },
  {
   "cell_type": "code",
   "execution_count": 37,
   "id": "cc068d35-7919-4403-88ba-2a004a02f12e",
   "metadata": {
    "tags": []
   },
   "outputs": [
    {
     "data": {
      "image/png": "[encoded data removed]",
      "text/plain": [
       "<Figure size 640x480 with 2 Axes>"
      ]
     },
     "metadata": {},
     "output_type": "display_data"
    }
   ],
   "source": [
    "sns.heatmap(cm, annot=True, fmt='', cmap= 'coolwarm', cbar=True)\n",
    "plt.xlabel('Predicted Values')\n",
    "plt.ylabel('True Values')\n",
    "plt.title(\"Confusion Matrix - Default KNN\")\n",
    "plt.savefig(\"Fig2- Default KNN\")\n",
    "plt.show()"
   ]
  },
  {
   "cell_type": "code",
   "execution_count": 38,
   "id": "0e6fc5a8-d23d-4519-9504-b01217f847d6",
   "metadata": {
    "tags": []
   },
   "outputs": [
    {
     "name": "stdout",
     "output_type": "stream",
     "text": [
      "              precision    recall  f1-score   support\n",
      "\n",
      "           0       0.77      0.89      0.83      4041\n",
      "           1       0.95      0.85      0.90      3758\n",
      "           2       0.90      0.86      0.88      4312\n",
      "\n",
      "    accuracy                           0.87     12111\n",
      "   macro avg       0.88      0.87      0.87     12111\n",
      "weighted avg       0.88      0.87      0.87     12111\n",
      "\n"
     ]
    }
   ],
   "source": [
    "report = classification_report(y_test, predictions)\n",
    "print(report)"
   ]
  },
  {
   "cell_type": "markdown",
   "id": "17e22a27-11e4-4c6c-9826-ce78e45acbb1",
   "metadata": {},
   "source": [
    "Step 10: Correlation between feature and class variable\n"
   ]
  },
  {
   "cell_type": "code",
   "execution_count": 39,
   "id": "78a9d11d-6ab4-48ce-ba2f-4021e7ead63b",
   "metadata": {
    "tags": []
   },
   "outputs": [],
   "source": [
    "df1= pd.concat([X,y], axis = 1 )"
   ]
  },
  {
   "cell_type": "code",
   "execution_count": 40,
   "id": "909cb8b2-8cc7-48b8-a431-15f5fc2b4719",
   "metadata": {
    "tags": []
   },
   "outputs": [
    {
     "data": {
      "text/html": [
       "<div>\n",
       "<style scoped>\n",
       "    .dataframe tbody tr th:only-of-type {\n",
       "        vertical-align: middle;\n",
       "    }\n",
       "\n",
       "    .dataframe tbody tr th {\n",
       "        vertical-align: top;\n",
       "    }\n",
       "\n",
       "    .dataframe thead th {\n",
       "        text-align: right;\n",
       "    }\n",
       "</style>\n",
       "<table border=\"1\" class=\"dataframe\">\n",
       "  <thead>\n",
       "    <tr style=\"text-align: right;\">\n",
       "      <th></th>\n",
       "      <th>obj_ID</th>\n",
       "      <th>alpha</th>\n",
       "      <th>delta</th>\n",
       "      <th>u</th>\n",
       "      <th>g</th>\n",
       "      <th>r</th>\n",
       "      <th>i</th>\n",
       "      <th>z</th>\n",
       "      <th>run_ID</th>\n",
       "      <th>cam_col</th>\n",
       "      <th>field_ID</th>\n",
       "      <th>spec_obj_ID</th>\n",
       "      <th>redshift</th>\n",
       "      <th>plate</th>\n",
       "      <th>MJD</th>\n",
       "      <th>fiber_ID</th>\n",
       "      <th>label</th>\n",
       "    </tr>\n",
       "  </thead>\n",
       "  <tbody>\n",
       "    <tr>\n",
       "      <th>0</th>\n",
       "      <td>-0.454872</td>\n",
       "      <td>-0.472276</td>\n",
       "      <td>0.313906</td>\n",
       "      <td>0.010362</td>\n",
       "      <td>0.036896</td>\n",
       "      <td>1.038193</td>\n",
       "      <td>1.104415</td>\n",
       "      <td>0.056869</td>\n",
       "      <td>-0.454900</td>\n",
       "      <td>0.295025</td>\n",
       "      <td>-0.150562</td>\n",
       "      <td>1.785990</td>\n",
       "      <td>1.314132</td>\n",
       "      <td>1.785980</td>\n",
       "      <td>1.532035</td>\n",
       "      <td>0.920983</td>\n",
       "      <td>NaN</td>\n",
       "    </tr>\n",
       "    <tr>\n",
       "      <th>1</th>\n",
       "      <td>-0.312237</td>\n",
       "      <td>0.020950</td>\n",
       "      <td>0.948128</td>\n",
       "      <td>-0.010238</td>\n",
       "      <td>0.011282</td>\n",
       "      <td>0.608700</td>\n",
       "      <td>0.834303</td>\n",
       "      <td>0.053693</td>\n",
       "      <td>-0.312393</td>\n",
       "      <td>1.548155</td>\n",
       "      <td>-0.239796</td>\n",
       "      <td>0.445331</td>\n",
       "      <td>-0.751365</td>\n",
       "      <td>0.445354</td>\n",
       "      <td>0.390309</td>\n",
       "      <td>-0.897711</td>\n",
       "      <td>0.0</td>\n",
       "    </tr>\n",
       "    <tr>\n",
       "      <th>2</th>\n",
       "      <td>-0.645733</td>\n",
       "      <td>0.665740</td>\n",
       "      <td>0.673957</td>\n",
       "      <td>-0.008379</td>\n",
       "      <td>-0.006993</td>\n",
       "      <td>0.070641</td>\n",
       "      <td>0.243850</td>\n",
       "      <td>0.026211</td>\n",
       "      <td>-0.645759</td>\n",
       "      <td>0.295025</td>\n",
       "      <td>-1.173325</td>\n",
       "      <td>-0.035202</td>\n",
       "      <td>-0.752603</td>\n",
       "      <td>-0.035179</td>\n",
       "      <td>0.221267</td>\n",
       "      <td>-1.059372</td>\n",
       "      <td>NaN</td>\n",
       "    </tr>\n",
       "    <tr>\n",
       "      <th>3</th>\n",
       "      <td>1.744148</td>\n",
       "      <td>-1.454413</td>\n",
       "      <td>-1.515661</td>\n",
       "      <td>0.130217</td>\n",
       "      <td>0.036767</td>\n",
       "      <td>0.409963</td>\n",
       "      <td>0.208999</td>\n",
       "      <td>0.008341</td>\n",
       "      <td>1.744301</td>\n",
       "      <td>-1.584670</td>\n",
       "      <td>0.508400</td>\n",
       "      <td>-0.304740</td>\n",
       "      <td>-0.223302</td>\n",
       "      <td>-0.304771</td>\n",
       "      <td>0.096564</td>\n",
       "      <td>1.288396</td>\n",
       "      <td>NaN</td>\n",
       "    </tr>\n",
       "    <tr>\n",
       "      <th>4</th>\n",
       "      <td>-1.553269</td>\n",
       "      <td>-0.525301</td>\n",
       "      <td>1.336358</td>\n",
       "      <td>0.013540</td>\n",
       "      <td>0.023191</td>\n",
       "      <td>0.612305</td>\n",
       "      <td>0.743711</td>\n",
       "      <td>0.032173</td>\n",
       "      <td>-1.553228</td>\n",
       "      <td>-0.331540</td>\n",
       "      <td>-0.274117</td>\n",
       "      <td>-0.538738</td>\n",
       "      <td>-0.751256</td>\n",
       "      <td>-0.538705</td>\n",
       "      <td>-0.283642</td>\n",
       "      <td>-1.581099</td>\n",
       "      <td>0.0</td>\n",
       "    </tr>\n",
       "    <tr>\n",
       "      <th>...</th>\n",
       "      <td>...</td>\n",
       "      <td>...</td>\n",
       "      <td>...</td>\n",
       "      <td>...</td>\n",
       "      <td>...</td>\n",
       "      <td>...</td>\n",
       "      <td>...</td>\n",
       "      <td>...</td>\n",
       "      <td>...</td>\n",
       "      <td>...</td>\n",
       "      <td>...</td>\n",
       "      <td>...</td>\n",
       "      <td>...</td>\n",
       "      <td>...</td>\n",
       "      <td>...</td>\n",
       "      <td>...</td>\n",
       "      <td>...</td>\n",
       "    </tr>\n",
       "    <tr>\n",
       "      <th>91348</th>\n",
       "      <td>NaN</td>\n",
       "      <td>NaN</td>\n",
       "      <td>NaN</td>\n",
       "      <td>NaN</td>\n",
       "      <td>NaN</td>\n",
       "      <td>NaN</td>\n",
       "      <td>NaN</td>\n",
       "      <td>NaN</td>\n",
       "      <td>NaN</td>\n",
       "      <td>NaN</td>\n",
       "      <td>NaN</td>\n",
       "      <td>NaN</td>\n",
       "      <td>NaN</td>\n",
       "      <td>NaN</td>\n",
       "      <td>NaN</td>\n",
       "      <td>NaN</td>\n",
       "      <td>0.0</td>\n",
       "    </tr>\n",
       "    <tr>\n",
       "      <th>96799</th>\n",
       "      <td>NaN</td>\n",
       "      <td>NaN</td>\n",
       "      <td>NaN</td>\n",
       "      <td>NaN</td>\n",
       "      <td>NaN</td>\n",
       "      <td>NaN</td>\n",
       "      <td>NaN</td>\n",
       "      <td>NaN</td>\n",
       "      <td>NaN</td>\n",
       "      <td>NaN</td>\n",
       "      <td>NaN</td>\n",
       "      <td>NaN</td>\n",
       "      <td>NaN</td>\n",
       "      <td>NaN</td>\n",
       "      <td>NaN</td>\n",
       "      <td>NaN</td>\n",
       "      <td>0.0</td>\n",
       "    </tr>\n",
       "    <tr>\n",
       "      <th>90827</th>\n",
       "      <td>NaN</td>\n",
       "      <td>NaN</td>\n",
       "      <td>NaN</td>\n",
       "      <td>NaN</td>\n",
       "      <td>NaN</td>\n",
       "      <td>NaN</td>\n",
       "      <td>NaN</td>\n",
       "      <td>NaN</td>\n",
       "      <td>NaN</td>\n",
       "      <td>NaN</td>\n",
       "      <td>NaN</td>\n",
       "      <td>NaN</td>\n",
       "      <td>NaN</td>\n",
       "      <td>NaN</td>\n",
       "      <td>NaN</td>\n",
       "      <td>NaN</td>\n",
       "      <td>1.0</td>\n",
       "    </tr>\n",
       "    <tr>\n",
       "      <th>93383</th>\n",
       "      <td>NaN</td>\n",
       "      <td>NaN</td>\n",
       "      <td>NaN</td>\n",
       "      <td>NaN</td>\n",
       "      <td>NaN</td>\n",
       "      <td>NaN</td>\n",
       "      <td>NaN</td>\n",
       "      <td>NaN</td>\n",
       "      <td>NaN</td>\n",
       "      <td>NaN</td>\n",
       "      <td>NaN</td>\n",
       "      <td>NaN</td>\n",
       "      <td>NaN</td>\n",
       "      <td>NaN</td>\n",
       "      <td>NaN</td>\n",
       "      <td>NaN</td>\n",
       "      <td>1.0</td>\n",
       "    </tr>\n",
       "    <tr>\n",
       "      <th>64017</th>\n",
       "      <td>NaN</td>\n",
       "      <td>NaN</td>\n",
       "      <td>NaN</td>\n",
       "      <td>NaN</td>\n",
       "      <td>NaN</td>\n",
       "      <td>NaN</td>\n",
       "      <td>NaN</td>\n",
       "      <td>NaN</td>\n",
       "      <td>NaN</td>\n",
       "      <td>NaN</td>\n",
       "      <td>NaN</td>\n",
       "      <td>NaN</td>\n",
       "      <td>NaN</td>\n",
       "      <td>NaN</td>\n",
       "      <td>NaN</td>\n",
       "      <td>NaN</td>\n",
       "      <td>0.0</td>\n",
       "    </tr>\n",
       "  </tbody>\n",
       "</table>\n",
       "<p>84492 rows × 17 columns</p>\n",
       "</div>"
      ],
      "text/plain": [
       "         obj_ID     alpha     delta         u         g         r         i  \\\n",
       "0     -0.454872 -0.472276  0.313906  0.010362  0.036896  1.038193  1.104415   \n",
       "1     -0.312237  0.020950  0.948128 -0.010238  0.011282  0.608700  0.834303   \n",
       "2     -0.645733  0.665740  0.673957 -0.008379 -0.006993  0.070641  0.243850   \n",
       "3      1.744148 -1.454413 -1.515661  0.130217  0.036767  0.409963  0.208999   \n",
       "4     -1.553269 -0.525301  1.336358  0.013540  0.023191  0.612305  0.743711   \n",
       "...         ...       ...       ...       ...       ...       ...       ...   \n",
       "91348       NaN       NaN       NaN       NaN       NaN       NaN       NaN   \n",
       "96799       NaN       NaN       NaN       NaN       NaN       NaN       NaN   \n",
       "90827       NaN       NaN       NaN       NaN       NaN       NaN       NaN   \n",
       "93383       NaN       NaN       NaN       NaN       NaN       NaN       NaN   \n",
       "64017       NaN       NaN       NaN       NaN       NaN       NaN       NaN   \n",
       "\n",
       "              z    run_ID   cam_col  field_ID  spec_obj_ID  redshift  \\\n",
       "0      0.056869 -0.454900  0.295025 -0.150562     1.785990  1.314132   \n",
       "1      0.053693 -0.312393  1.548155 -0.239796     0.445331 -0.751365   \n",
       "2      0.026211 -0.645759  0.295025 -1.173325    -0.035202 -0.752603   \n",
       "3      0.008341  1.744301 -1.584670  0.508400    -0.304740 -0.223302   \n",
       "4      0.032173 -1.553228 -0.331540 -0.274117    -0.538738 -0.751256   \n",
       "...         ...       ...       ...       ...          ...       ...   \n",
       "91348       NaN       NaN       NaN       NaN          NaN       NaN   \n",
       "96799       NaN       NaN       NaN       NaN          NaN       NaN   \n",
       "90827       NaN       NaN       NaN       NaN          NaN       NaN   \n",
       "93383       NaN       NaN       NaN       NaN          NaN       NaN   \n",
       "64017       NaN       NaN       NaN       NaN          NaN       NaN   \n",
       "\n",
       "          plate       MJD  fiber_ID  label  \n",
       "0      1.785980  1.532035  0.920983    NaN  \n",
       "1      0.445354  0.390309 -0.897711    0.0  \n",
       "2     -0.035179  0.221267 -1.059372    NaN  \n",
       "3     -0.304771  0.096564  1.288396    NaN  \n",
       "4     -0.538705 -0.283642 -1.581099    0.0  \n",
       "...         ...       ...       ...    ...  \n",
       "91348       NaN       NaN       NaN    0.0  \n",
       "96799       NaN       NaN       NaN    0.0  \n",
       "90827       NaN       NaN       NaN    1.0  \n",
       "93383       NaN       NaN       NaN    1.0  \n",
       "64017       NaN       NaN       NaN    0.0  \n",
       "\n",
       "[84492 rows x 17 columns]"
      ]
     },
     "execution_count": 40,
     "metadata": {},
     "output_type": "execute_result"
    }
   ],
   "source": [
    "df1"
   ]
  },
  {
   "cell_type": "code",
   "execution_count": 41,
   "id": "abbee5b7-5f00-4fe0-a11e-e3fa3aab3b16",
   "metadata": {
    "tags": []
   },
   "outputs": [
    {
     "data": {
      "text/html": [
       "<div>\n",
       "<style scoped>\n",
       "    .dataframe tbody tr th:only-of-type {\n",
       "        vertical-align: middle;\n",
       "    }\n",
       "\n",
       "    .dataframe tbody tr th {\n",
       "        vertical-align: top;\n",
       "    }\n",
       "\n",
       "    .dataframe thead th {\n",
       "        text-align: right;\n",
       "    }\n",
       "</style>\n",
       "<table border=\"1\" class=\"dataframe\">\n",
       "  <thead>\n",
       "    <tr style=\"text-align: right;\">\n",
       "      <th></th>\n",
       "      <th>obj_ID</th>\n",
       "      <th>alpha</th>\n",
       "      <th>delta</th>\n",
       "      <th>u</th>\n",
       "      <th>g</th>\n",
       "      <th>r</th>\n",
       "      <th>i</th>\n",
       "      <th>z</th>\n",
       "      <th>run_ID</th>\n",
       "      <th>cam_col</th>\n",
       "      <th>field_ID</th>\n",
       "      <th>spec_obj_ID</th>\n",
       "      <th>redshift</th>\n",
       "      <th>plate</th>\n",
       "      <th>MJD</th>\n",
       "      <th>fiber_ID</th>\n",
       "      <th>label</th>\n",
       "    </tr>\n",
       "  </thead>\n",
       "  <tbody>\n",
       "    <tr>\n",
       "      <th>obj_ID</th>\n",
       "      <td>1.000000</td>\n",
       "      <td>0.014350</td>\n",
       "      <td>-0.276534</td>\n",
       "      <td>0.013648</td>\n",
       "      <td>0.013986</td>\n",
       "      <td>0.132480</td>\n",
       "      <td>0.128818</td>\n",
       "      <td>0.013054</td>\n",
       "      <td>1.000000</td>\n",
       "      <td>-0.042477</td>\n",
       "      <td>0.035051</td>\n",
       "      <td>0.217088</td>\n",
       "      <td>0.058715</td>\n",
       "      <td>0.217088</td>\n",
       "      <td>0.237271</td>\n",
       "      <td>0.066319</td>\n",
       "      <td>-0.001549</td>\n",
       "    </tr>\n",
       "    <tr>\n",
       "      <th>alpha</th>\n",
       "      <td>0.014350</td>\n",
       "      <td>1.000000</td>\n",
       "      <td>0.140540</td>\n",
       "      <td>-0.001545</td>\n",
       "      <td>-0.001642</td>\n",
       "      <td>0.009015</td>\n",
       "      <td>0.012674</td>\n",
       "      <td>-0.001388</td>\n",
       "      <td>0.014351</td>\n",
       "      <td>-0.006145</td>\n",
       "      <td>-0.153022</td>\n",
       "      <td>0.030415</td>\n",
       "      <td>0.014701</td>\n",
       "      <td>0.030415</td>\n",
       "      <td>0.053621</td>\n",
       "      <td>0.031908</td>\n",
       "      <td>-0.006594</td>\n",
       "    </tr>\n",
       "    <tr>\n",
       "      <th>delta</th>\n",
       "      <td>-0.276534</td>\n",
       "      <td>0.140540</td>\n",
       "      <td>1.000000</td>\n",
       "      <td>0.003483</td>\n",
       "      <td>0.005353</td>\n",
       "      <td>0.016383</td>\n",
       "      <td>0.022256</td>\n",
       "      <td>0.006227</td>\n",
       "      <td>-0.276535</td>\n",
       "      <td>0.025796</td>\n",
       "      <td>-0.164459</td>\n",
       "      <td>0.139185</td>\n",
       "      <td>0.042433</td>\n",
       "      <td>0.139185</td>\n",
       "      <td>0.143333</td>\n",
       "      <td>0.032820</td>\n",
       "      <td>0.002788</td>\n",
       "    </tr>\n",
       "    <tr>\n",
       "      <th>u</th>\n",
       "      <td>0.013648</td>\n",
       "      <td>-0.001545</td>\n",
       "      <td>0.003483</td>\n",
       "      <td>1.000000</td>\n",
       "      <td>0.999629</td>\n",
       "      <td>0.042212</td>\n",
       "      <td>0.035207</td>\n",
       "      <td>0.998851</td>\n",
       "      <td>0.013648</td>\n",
       "      <td>0.004255</td>\n",
       "      <td>-0.009968</td>\n",
       "      <td>0.019960</td>\n",
       "      <td>0.010636</td>\n",
       "      <td>0.019960</td>\n",
       "      <td>0.020419</td>\n",
       "      <td>0.012817</td>\n",
       "      <td>0.006430</td>\n",
       "    </tr>\n",
       "    <tr>\n",
       "      <th>g</th>\n",
       "      <td>0.013986</td>\n",
       "      <td>-0.001642</td>\n",
       "      <td>0.005353</td>\n",
       "      <td>0.999629</td>\n",
       "      <td>1.000000</td>\n",
       "      <td>0.048268</td>\n",
       "      <td>0.043238</td>\n",
       "      <td>0.999484</td>\n",
       "      <td>0.013985</td>\n",
       "      <td>0.004198</td>\n",
       "      <td>-0.010436</td>\n",
       "      <td>0.027636</td>\n",
       "      <td>0.017456</td>\n",
       "      <td>0.027636</td>\n",
       "      <td>0.027376</td>\n",
       "      <td>0.014112</td>\n",
       "      <td>0.006503</td>\n",
       "    </tr>\n",
       "    <tr>\n",
       "      <th>r</th>\n",
       "      <td>0.132480</td>\n",
       "      <td>0.009015</td>\n",
       "      <td>0.016383</td>\n",
       "      <td>0.042212</td>\n",
       "      <td>0.048268</td>\n",
       "      <td>1.000000</td>\n",
       "      <td>0.957202</td>\n",
       "      <td>0.043657</td>\n",
       "      <td>0.132479</td>\n",
       "      <td>0.006540</td>\n",
       "      <td>-0.020283</td>\n",
       "      <td>0.590412</td>\n",
       "      <td>0.414508</td>\n",
       "      <td>0.590411</td>\n",
       "      <td>0.602926</td>\n",
       "      <td>0.214920</td>\n",
       "      <td>0.000264</td>\n",
       "    </tr>\n",
       "    <tr>\n",
       "      <th>i</th>\n",
       "      <td>0.128818</td>\n",
       "      <td>0.012674</td>\n",
       "      <td>0.022256</td>\n",
       "      <td>0.035207</td>\n",
       "      <td>0.043238</td>\n",
       "      <td>0.957202</td>\n",
       "      <td>1.000000</td>\n",
       "      <td>0.045641</td>\n",
       "      <td>0.128817</td>\n",
       "      <td>0.006010</td>\n",
       "      <td>-0.023795</td>\n",
       "      <td>0.602745</td>\n",
       "      <td>0.478978</td>\n",
       "      <td>0.602744</td>\n",
       "      <td>0.614525</td>\n",
       "      <td>0.211952</td>\n",
       "      <td>-0.000135</td>\n",
       "    </tr>\n",
       "    <tr>\n",
       "      <th>z</th>\n",
       "      <td>0.013054</td>\n",
       "      <td>-0.001388</td>\n",
       "      <td>0.006227</td>\n",
       "      <td>0.998851</td>\n",
       "      <td>0.999484</td>\n",
       "      <td>0.043657</td>\n",
       "      <td>0.045641</td>\n",
       "      <td>1.000000</td>\n",
       "      <td>0.013054</td>\n",
       "      <td>0.004053</td>\n",
       "      <td>-0.010978</td>\n",
       "      <td>0.028906</td>\n",
       "      <td>0.024682</td>\n",
       "      <td>0.028906</td>\n",
       "      <td>0.028340</td>\n",
       "      <td>0.013229</td>\n",
       "      <td>0.006535</td>\n",
       "    </tr>\n",
       "    <tr>\n",
       "      <th>run_ID</th>\n",
       "      <td>1.000000</td>\n",
       "      <td>0.014351</td>\n",
       "      <td>-0.276535</td>\n",
       "      <td>0.013648</td>\n",
       "      <td>0.013985</td>\n",
       "      <td>0.132479</td>\n",
       "      <td>0.128817</td>\n",
       "      <td>0.013054</td>\n",
       "      <td>1.000000</td>\n",
       "      <td>-0.042578</td>\n",
       "      <td>0.035050</td>\n",
       "      <td>0.217088</td>\n",
       "      <td>0.058715</td>\n",
       "      <td>0.217088</td>\n",
       "      <td>0.237272</td>\n",
       "      <td>0.066307</td>\n",
       "      <td>-0.001549</td>\n",
       "    </tr>\n",
       "    <tr>\n",
       "      <th>cam_col</th>\n",
       "      <td>-0.042477</td>\n",
       "      <td>-0.006145</td>\n",
       "      <td>0.025796</td>\n",
       "      <td>0.004255</td>\n",
       "      <td>0.004198</td>\n",
       "      <td>0.006540</td>\n",
       "      <td>0.006010</td>\n",
       "      <td>0.004053</td>\n",
       "      <td>-0.042578</td>\n",
       "      <td>1.000000</td>\n",
       "      <td>-0.010280</td>\n",
       "      <td>-0.005262</td>\n",
       "      <td>-0.004964</td>\n",
       "      <td>-0.005264</td>\n",
       "      <td>-0.012003</td>\n",
       "      <td>0.120086</td>\n",
       "      <td>0.003704</td>\n",
       "    </tr>\n",
       "    <tr>\n",
       "      <th>field_ID</th>\n",
       "      <td>0.035051</td>\n",
       "      <td>-0.153022</td>\n",
       "      <td>-0.164459</td>\n",
       "      <td>-0.009968</td>\n",
       "      <td>-0.010436</td>\n",
       "      <td>-0.020283</td>\n",
       "      <td>-0.023795</td>\n",
       "      <td>-0.010978</td>\n",
       "      <td>0.035050</td>\n",
       "      <td>-0.010280</td>\n",
       "      <td>1.000000</td>\n",
       "      <td>-0.074102</td>\n",
       "      <td>-0.013675</td>\n",
       "      <td>-0.074102</td>\n",
       "      <td>-0.085804</td>\n",
       "      <td>-0.005800</td>\n",
       "      <td>-0.001018</td>\n",
       "    </tr>\n",
       "    <tr>\n",
       "      <th>spec_obj_ID</th>\n",
       "      <td>0.217088</td>\n",
       "      <td>0.030415</td>\n",
       "      <td>0.139185</td>\n",
       "      <td>0.019960</td>\n",
       "      <td>0.027636</td>\n",
       "      <td>0.590412</td>\n",
       "      <td>0.602745</td>\n",
       "      <td>0.028906</td>\n",
       "      <td>0.217088</td>\n",
       "      <td>-0.005262</td>\n",
       "      <td>-0.074102</td>\n",
       "      <td>1.000000</td>\n",
       "      <td>0.366070</td>\n",
       "      <td>1.000000</td>\n",
       "      <td>0.970326</td>\n",
       "      <td>0.243860</td>\n",
       "      <td>0.002610</td>\n",
       "    </tr>\n",
       "    <tr>\n",
       "      <th>redshift</th>\n",
       "      <td>0.058715</td>\n",
       "      <td>0.014701</td>\n",
       "      <td>0.042433</td>\n",
       "      <td>0.010636</td>\n",
       "      <td>0.017456</td>\n",
       "      <td>0.414508</td>\n",
       "      <td>0.478978</td>\n",
       "      <td>0.024682</td>\n",
       "      <td>0.058715</td>\n",
       "      <td>-0.004964</td>\n",
       "      <td>-0.013675</td>\n",
       "      <td>0.366070</td>\n",
       "      <td>1.000000</td>\n",
       "      <td>0.366069</td>\n",
       "      <td>0.365034</td>\n",
       "      <td>0.131833</td>\n",
       "      <td>0.003817</td>\n",
       "    </tr>\n",
       "    <tr>\n",
       "      <th>plate</th>\n",
       "      <td>0.217088</td>\n",
       "      <td>0.030415</td>\n",
       "      <td>0.139185</td>\n",
       "      <td>0.019960</td>\n",
       "      <td>0.027636</td>\n",
       "      <td>0.590411</td>\n",
       "      <td>0.602744</td>\n",
       "      <td>0.028906</td>\n",
       "      <td>0.217088</td>\n",
       "      <td>-0.005264</td>\n",
       "      <td>-0.074102</td>\n",
       "      <td>1.000000</td>\n",
       "      <td>0.366069</td>\n",
       "      <td>1.000000</td>\n",
       "      <td>0.970325</td>\n",
       "      <td>0.243839</td>\n",
       "      <td>0.002610</td>\n",
       "    </tr>\n",
       "    <tr>\n",
       "      <th>MJD</th>\n",
       "      <td>0.237271</td>\n",
       "      <td>0.053621</td>\n",
       "      <td>0.143333</td>\n",
       "      <td>0.020419</td>\n",
       "      <td>0.027376</td>\n",
       "      <td>0.602926</td>\n",
       "      <td>0.614525</td>\n",
       "      <td>0.028340</td>\n",
       "      <td>0.237272</td>\n",
       "      <td>-0.012003</td>\n",
       "      <td>-0.085804</td>\n",
       "      <td>0.970326</td>\n",
       "      <td>0.365034</td>\n",
       "      <td>0.970325</td>\n",
       "      <td>1.000000</td>\n",
       "      <td>0.256112</td>\n",
       "      <td>0.001922</td>\n",
       "    </tr>\n",
       "    <tr>\n",
       "      <th>fiber_ID</th>\n",
       "      <td>0.066319</td>\n",
       "      <td>0.031908</td>\n",
       "      <td>0.032820</td>\n",
       "      <td>0.012817</td>\n",
       "      <td>0.014112</td>\n",
       "      <td>0.214920</td>\n",
       "      <td>0.211952</td>\n",
       "      <td>0.013229</td>\n",
       "      <td>0.066307</td>\n",
       "      <td>0.120086</td>\n",
       "      <td>-0.005800</td>\n",
       "      <td>0.243860</td>\n",
       "      <td>0.131833</td>\n",
       "      <td>0.243839</td>\n",
       "      <td>0.256112</td>\n",
       "      <td>1.000000</td>\n",
       "      <td>0.003020</td>\n",
       "    </tr>\n",
       "    <tr>\n",
       "      <th>label</th>\n",
       "      <td>-0.001549</td>\n",
       "      <td>-0.006594</td>\n",
       "      <td>0.002788</td>\n",
       "      <td>0.006430</td>\n",
       "      <td>0.006503</td>\n",
       "      <td>0.000264</td>\n",
       "      <td>-0.000135</td>\n",
       "      <td>0.006535</td>\n",
       "      <td>-0.001549</td>\n",
       "      <td>0.003704</td>\n",
       "      <td>-0.001018</td>\n",
       "      <td>0.002610</td>\n",
       "      <td>0.003817</td>\n",
       "      <td>0.002610</td>\n",
       "      <td>0.001922</td>\n",
       "      <td>0.003020</td>\n",
       "      <td>1.000000</td>\n",
       "    </tr>\n",
       "  </tbody>\n",
       "</table>\n",
       "</div>"
      ],
      "text/plain": [
       "               obj_ID     alpha     delta         u         g         r  \\\n",
       "obj_ID       1.000000  0.014350 -0.276534  0.013648  0.013986  0.132480   \n",
       "alpha        0.014350  1.000000  0.140540 -0.001545 -0.001642  0.009015   \n",
       "delta       -0.276534  0.140540  1.000000  0.003483  0.005353  0.016383   \n",
       "u            0.013648 -0.001545  0.003483  1.000000  0.999629  0.042212   \n",
       "g            0.013986 -0.001642  0.005353  0.999629  1.000000  0.048268   \n",
       "r            0.132480  0.009015  0.016383  0.042212  0.048268  1.000000   \n",
       "i            0.128818  0.012674  0.022256  0.035207  0.043238  0.957202   \n",
       "z            0.013054 -0.001388  0.006227  0.998851  0.999484  0.043657   \n",
       "run_ID       1.000000  0.014351 -0.276535  0.013648  0.013985  0.132479   \n",
       "cam_col     -0.042477 -0.006145  0.025796  0.004255  0.004198  0.006540   \n",
       "field_ID     0.035051 -0.153022 -0.164459 -0.009968 -0.010436 -0.020283   \n",
       "spec_obj_ID  0.217088  0.030415  0.139185  0.019960  0.027636  0.590412   \n",
       "redshift     0.058715  0.014701  0.042433  0.010636  0.017456  0.414508   \n",
       "plate        0.217088  0.030415  0.139185  0.019960  0.027636  0.590411   \n",
       "MJD          0.237271  0.053621  0.143333  0.020419  0.027376  0.602926   \n",
       "fiber_ID     0.066319  0.031908  0.032820  0.012817  0.014112  0.214920   \n",
       "label       -0.001549 -0.006594  0.002788  0.006430  0.006503  0.000264   \n",
       "\n",
       "                    i         z    run_ID   cam_col  field_ID  spec_obj_ID  \\\n",
       "obj_ID       0.128818  0.013054  1.000000 -0.042477  0.035051     0.217088   \n",
       "alpha        0.012674 -0.001388  0.014351 -0.006145 -0.153022     0.030415   \n",
       "delta        0.022256  0.006227 -0.276535  0.025796 -0.164459     0.139185   \n",
       "u            0.035207  0.998851  0.013648  0.004255 -0.009968     0.019960   \n",
       "g            0.043238  0.999484  0.013985  0.004198 -0.010436     0.027636   \n",
       "r            0.957202  0.043657  0.132479  0.006540 -0.020283     0.590412   \n",
       "i            1.000000  0.045641  0.128817  0.006010 -0.023795     0.602745   \n",
       "z            0.045641  1.000000  0.013054  0.004053 -0.010978     0.028906   \n",
       "run_ID       0.128817  0.013054  1.000000 -0.042578  0.035050     0.217088   \n",
       "cam_col      0.006010  0.004053 -0.042578  1.000000 -0.010280    -0.005262   \n",
       "field_ID    -0.023795 -0.010978  0.035050 -0.010280  1.000000    -0.074102   \n",
       "spec_obj_ID  0.602745  0.028906  0.217088 -0.005262 -0.074102     1.000000   \n",
       "redshift     0.478978  0.024682  0.058715 -0.004964 -0.013675     0.366070   \n",
       "plate        0.602744  0.028906  0.217088 -0.005264 -0.074102     1.000000   \n",
       "MJD          0.614525  0.028340  0.237272 -0.012003 -0.085804     0.970326   \n",
       "fiber_ID     0.211952  0.013229  0.066307  0.120086 -0.005800     0.243860   \n",
       "label       -0.000135  0.006535 -0.001549  0.003704 -0.001018     0.002610   \n",
       "\n",
       "             redshift     plate       MJD  fiber_ID     label  \n",
       "obj_ID       0.058715  0.217088  0.237271  0.066319 -0.001549  \n",
       "alpha        0.014701  0.030415  0.053621  0.031908 -0.006594  \n",
       "delta        0.042433  0.139185  0.143333  0.032820  0.002788  \n",
       "u            0.010636  0.019960  0.020419  0.012817  0.006430  \n",
       "g            0.017456  0.027636  0.027376  0.014112  0.006503  \n",
       "r            0.414508  0.590411  0.602926  0.214920  0.000264  \n",
       "i            0.478978  0.602744  0.614525  0.211952 -0.000135  \n",
       "z            0.024682  0.028906  0.028340  0.013229  0.006535  \n",
       "run_ID       0.058715  0.217088  0.237272  0.066307 -0.001549  \n",
       "cam_col     -0.004964 -0.005264 -0.012003  0.120086  0.003704  \n",
       "field_ID    -0.013675 -0.074102 -0.085804 -0.005800 -0.001018  \n",
       "spec_obj_ID  0.366070  1.000000  0.970326  0.243860  0.002610  \n",
       "redshift     1.000000  0.366069  0.365034  0.131833  0.003817  \n",
       "plate        0.366069  1.000000  0.970325  0.243839  0.002610  \n",
       "MJD          0.365034  0.970325  1.000000  0.256112  0.001922  \n",
       "fiber_ID     0.131833  0.243839  0.256112  1.000000  0.003020  \n",
       "label        0.003817  0.002610  0.001922  0.003020  1.000000  "
      ]
     },
     "execution_count": 41,
     "metadata": {},
     "output_type": "execute_result"
    }
   ],
   "source": [
    "correlation_matrix = df1.corr(method = 'pearson')\n",
    "correlation_matrix"
   ]
  },
  {
   "cell_type": "code",
   "execution_count": 42,
   "id": "94f54a35-acf1-466c-a6cc-edd27eddc2fe",
   "metadata": {
    "tags": []
   },
   "outputs": [
    {
     "data": {
      "image/png": "[encoded data removed]",
      "text/plain": [
       "<Figure size 1800x1000 with 2 Axes>"
      ]
     },
     "metadata": {},
     "output_type": "display_data"
    }
   ],
   "source": [
    "plt.figure(figsize=(18, 10))\n",
    "sns.heatmap(correlation_matrix, annot=True, cmap='coolwarm')\n",
    "plt.title('Correlation Matrix - Stellar Classification Dataset')\n",
    "\n",
    "# %matplotlib QT\n",
    "# Rotate the x-axis labels for better readability\n",
    "plt.xticks(rotation=45)\n",
    "plt.savefig(\"Fig3- Correlation Matix\")\n",
    "\n",
    "# Show the plot\n",
    "plt.show()"
   ]
  },
  {
   "cell_type": "code",
   "execution_count": 43,
   "id": "faab7103-0768-4df5-87bc-be655fa94b51",
   "metadata": {
    "tags": []
   },
   "outputs": [
    {
     "data": {
      "text/plain": [
       "obj_ID        -0.001549\n",
       "alpha         -0.006594\n",
       "delta          0.002788\n",
       "u              0.006430\n",
       "g              0.006503\n",
       "r              0.000264\n",
       "i             -0.000135\n",
       "z              0.006535\n",
       "run_ID        -0.001549\n",
       "cam_col        0.003704\n",
       "field_ID      -0.001018\n",
       "spec_obj_ID    0.002610\n",
       "redshift       0.003817\n",
       "plate          0.002610\n",
       "MJD            0.001922\n",
       "fiber_ID       0.003020\n",
       "label          1.000000\n",
       "Name: label, dtype: float64"
      ]
     },
     "execution_count": 43,
     "metadata": {},
     "output_type": "execute_result"
    }
   ],
   "source": [
    "#Plotting the correlation values of the features vs the class variable on bar plot\n",
    "correlation_values = correlation_matrix['label']\n",
    "correlation_values"
   ]
  },
  {
   "cell_type": "code",
   "execution_count": 44,
   "id": "089cc198-4edb-4bb2-934f-c120af3612f6",
   "metadata": {
    "tags": []
   },
   "outputs": [
    {
     "name": "stdout",
     "output_type": "stream",
     "text": [
      "Index(['obj_ID', 'alpha', 'delta', 'u', 'g', 'r', 'i', 'z', 'run_ID',\n",
      "       'cam_col', 'field_ID', 'spec_obj_ID', 'redshift', 'plate', 'MJD',\n",
      "       'fiber_ID'],\n",
      "      dtype='object')\n"
     ]
    }
   ],
   "source": [
    "x_values = correlation_values.index[:-1]\n",
    "print(x_values)\n",
    "y_values = correlation_values.values[:-1]"
   ]
  },
  {
   "cell_type": "code",
   "execution_count": 45,
   "id": "f320fb32-30db-4948-b887-7c5753b408b8",
   "metadata": {
    "tags": []
   },
   "outputs": [
    {
     "data": {
      "image/png": "[encoded data removed]",
      "text/plain": [
       "<Figure size 2000x500 with 1 Axes>"
      ]
     },
     "metadata": {},
     "output_type": "display_data"
    }
   ],
   "source": [
    "plt.figure(figsize=(20,5))\n",
    "plt.bar(x_values,y_values)\n",
    "plt.grid()\n",
    "plt.title(\"Correlation values of the features vs Class\")\n",
    "plt.xlabel('Features / Attributes')\n",
    "plt.ylabel('Correlation Values')\n",
    "plt.savefig(\"Fig4-Correlation feature vs class\")\n",
    "plt.show()\n"
   ]
  },
  {
   "cell_type": "code",
   "execution_count": null,
   "id": "cbf958de-80d4-4faf-be9c-25aef40632d1",
   "metadata": {},
   "outputs": [],
   "source": []
  },
  {
   "cell_type": "markdown",
   "id": "52e84d44-5335-4a03-abcf-ba8dd68ceecb",
   "metadata": {},
   "source": [
    "Step 11: KNN Model With Weights. Repeat Same Process As Above But With Weighted model."
   ]
  },
  {
   "cell_type": "code",
   "execution_count": 46,
   "id": "296d8319-83d2-4fc8-bbca-adc6ac4d058f",
   "metadata": {
    "tags": []
   },
   "outputs": [
    {
     "name": "stdout",
     "output_type": "stream",
     "text": [
      "Generating 16 weights for weighted KNN since weight should be equal to no of attributes.\n",
      "[0.15428758 0.13369956 0.36268547 0.67910888 0.19445006 0.25121038\n",
      " 0.75841639 0.55761859 0.51480292 0.46779986 0.087176   0.82909544\n",
      " 0.29864056 0.03134589 0.67800576 0.90348903]\n"
     ]
    }
   ],
   "source": [
    "value = len(X_train.columns)\n",
    "print(f'Generating {value} weights for weighted KNN since weight should be equal to no of attributes.')\n",
    "np.random.seed(66)\n",
    "wts1 = np.random.rand(value)\n",
    "print(wts1)"
   ]
  },
  {
   "cell_type": "code",
   "execution_count": 47,
   "id": "01373fd6-813f-4707-b5f5-39aaac8e697a",
   "metadata": {
    "tags": []
   },
   "outputs": [],
   "source": [
    "model1 = KNeighborsClassifier( metric ='wminkowski', p = 2, metric_params={'w':wts1})"
   ]
  },
  {
   "cell_type": "code",
   "execution_count": 48,
   "id": "d885140a-58e1-4812-8d6e-252e6a7b4860",
   "metadata": {
    "tags": []
   },
   "outputs": [
    {
     "data": {
      "text/plain": [
       "{'algorithm': 'auto',\n",
       " 'leaf_size': 30,\n",
       " 'metric': 'wminkowski',\n",
       " 'metric_params': {'w': array([0.15428758, 0.13369956, 0.36268547, 0.67910888, 0.19445006,\n",
       "         0.25121038, 0.75841639, 0.55761859, 0.51480292, 0.46779986,\n",
       "         0.087176  , 0.82909544, 0.29864056, 0.03134589, 0.67800576,\n",
       "         0.90348903])},\n",
       " 'n_jobs': None,\n",
       " 'n_neighbors': 5,\n",
       " 'p': 2,\n",
       " 'weights': 'uniform'}"
      ]
     },
     "execution_count": 48,
     "metadata": {},
     "output_type": "execute_result"
    }
   ],
   "source": [
    "model1.get_params()"
   ]
  },
  {
   "cell_type": "code",
   "execution_count": 49,
   "id": "3228b1e0-76bd-4896-b19f-f197d07e687f",
   "metadata": {
    "tags": []
   },
   "outputs": [
    {
     "data": {
      "text/html": [
       "<style>#sk-container-id-3 {color: black;background-color: white;}#sk-container-id-3 pre{padding: 0;}#sk-container-id-3 div.sk-toggleable {background-color: white;}#sk-container-id-3 label.sk-toggleable__label {cursor: pointer;display: block;width: 100%;margin-bottom: 0;padding: 0.3em;box-sizing: border-box;text-align: center;}#sk-container-id-3 label.sk-toggleable__label-arrow:before {content: \"▸\";float: left;margin-right: 0.25em;color: #696969;}#sk-container-id-3 label.sk-toggleable__label-arrow:hover:before {color: black;}#sk-container-id-3 div.sk-estimator:hover label.sk-toggleable__label-arrow:before {color: black;}#sk-container-id-3 div.sk-toggleable__content {max-height: 0;max-width: 0;overflow: hidden;text-align: left;background-color: #f0f8ff;}#sk-container-id-3 div.sk-toggleable__content pre {margin: 0.2em;color: black;border-radius: 0.25em;background-color: #f0f8ff;}#sk-container-id-3 input.sk-toggleable__control:checked~div.sk-toggleable__content {max-height: 200px;max-width: 100%;overflow: auto;}#sk-container-id-3 input.sk-toggleable__control:checked~label.sk-toggleable__label-arrow:before {content: \"▾\";}#sk-container-id-3 div.sk-estimator input.sk-toggleable__control:checked~label.sk-toggleable__label {background-color: #d4ebff;}#sk-container-id-3 div.sk-label input.sk-toggleable__control:checked~label.sk-toggleable__label {background-color: #d4ebff;}#sk-container-id-3 input.sk-hidden--visually {border: 0;clip: rect(1px 1px 1px 1px);clip: rect(1px, 1px, 1px, 1px);height: 1px;margin: -1px;overflow: hidden;padding: 0;position: absolute;width: 1px;}#sk-container-id-3 div.sk-estimator {font-family: monospace;background-color: #f0f8ff;border: 1px dotted black;border-radius: 0.25em;box-sizing: border-box;margin-bottom: 0.5em;}#sk-container-id-3 div.sk-estimator:hover {background-color: #d4ebff;}#sk-container-id-3 div.sk-parallel-item::after {content: \"\";width: 100%;border-bottom: 1px solid gray;flex-grow: 1;}#sk-container-id-3 div.sk-label:hover label.sk-toggleable__label {background-color: #d4ebff;}#sk-container-id-3 div.sk-serial::before {content: \"\";position: absolute;border-left: 1px solid gray;box-sizing: border-box;top: 0;bottom: 0;left: 50%;z-index: 0;}#sk-container-id-3 div.sk-serial {display: flex;flex-direction: column;align-items: center;background-color: white;padding-right: 0.2em;padding-left: 0.2em;position: relative;}#sk-container-id-3 div.sk-item {position: relative;z-index: 1;}#sk-container-id-3 div.sk-parallel {display: flex;align-items: stretch;justify-content: center;background-color: white;position: relative;}#sk-container-id-3 div.sk-item::before, #sk-container-id-3 div.sk-parallel-item::before {content: \"\";position: absolute;border-left: 1px solid gray;box-sizing: border-box;top: 0;bottom: 0;left: 50%;z-index: -1;}#sk-container-id-3 div.sk-parallel-item {display: flex;flex-direction: column;z-index: 1;position: relative;background-color: white;}#sk-container-id-3 div.sk-parallel-item:first-child::after {align-self: flex-end;width: 50%;}#sk-container-id-3 div.sk-parallel-item:last-child::after {align-self: flex-start;width: 50%;}#sk-container-id-3 div.sk-parallel-item:only-child::after {width: 0;}#sk-container-id-3 div.sk-dashed-wrapped {border: 1px dashed gray;margin: 0 0.4em 0.5em 0.4em;box-sizing: border-box;padding-bottom: 0.4em;background-color: white;}#sk-container-id-3 div.sk-label label {font-family: monospace;font-weight: bold;display: inline-block;line-height: 1.2em;}#sk-container-id-3 div.sk-label-container {text-align: center;}#sk-container-id-3 div.sk-container {/* jupyter's `normalize.less` sets `[hidden] { display: none; }` but bootstrap.min.css set `[hidden] { display: none !important; }` so we also need the `!important` here to be able to override the default hidden behavior on the sphinx rendered scikit-learn.org. See: https://github.com/scikit-learn/scikit-learn/issues/21755 */display: inline-block !important;position: relative;}#sk-container-id-3 div.sk-text-repr-fallback {display: none;}</style><div id=\"sk-container-id-3\" class=\"sk-top-container\"><div class=\"sk-text-repr-fallback\"><pre>KNeighborsClassifier(metric=&#x27;wminkowski&#x27;,\n",
       "                     metric_params={&#x27;w&#x27;: array([0.15428758, 0.13369956, 0.36268547, 0.67910888, 0.19445006,\n",
       "       0.25121038, 0.75841639, 0.55761859, 0.51480292, 0.46779986,\n",
       "       0.087176  , 0.82909544, 0.29864056, 0.03134589, 0.67800576,\n",
       "       0.90348903])})</pre><b>In a Jupyter environment, please rerun this cell to show the HTML representation or trust the notebook. <br />On GitHub, the HTML representation is unable to render, please try loading this page with nbviewer.org.</b></div><div class=\"sk-container\" hidden><div class=\"sk-item\"><div class=\"sk-estimator sk-toggleable\"><input class=\"sk-toggleable__control sk-hidden--visually\" id=\"sk-estimator-id-3\" type=\"checkbox\" checked><label for=\"sk-estimator-id-3\" class=\"sk-toggleable__label sk-toggleable__label-arrow\">KNeighborsClassifier</label><div class=\"sk-toggleable__content\"><pre>KNeighborsClassifier(metric=&#x27;wminkowski&#x27;,\n",
       "                     metric_params={&#x27;w&#x27;: array([0.15428758, 0.13369956, 0.36268547, 0.67910888, 0.19445006,\n",
       "       0.25121038, 0.75841639, 0.55761859, 0.51480292, 0.46779986,\n",
       "       0.087176  , 0.82909544, 0.29864056, 0.03134589, 0.67800576,\n",
       "       0.90348903])})</pre></div></div></div></div></div>"
      ],
      "text/plain": [
       "KNeighborsClassifier(metric='wminkowski',\n",
       "                     metric_params={'w': array([0.15428758, 0.13369956, 0.36268547, 0.67910888, 0.19445006,\n",
       "       0.25121038, 0.75841639, 0.55761859, 0.51480292, 0.46779986,\n",
       "       0.087176  , 0.82909544, 0.29864056, 0.03134589, 0.67800576,\n",
       "       0.90348903])})"
      ]
     },
     "execution_count": 49,
     "metadata": {},
     "output_type": "execute_result"
    }
   ],
   "source": [
    "model1.fit(X_train,y_train)"
   ]
  },
  {
   "cell_type": "code",
   "execution_count": 50,
   "id": "229a088f-2d6b-4cf7-9810-7a7be01255c6",
   "metadata": {
    "tags": []
   },
   "outputs": [
    {
     "name": "stderr",
     "output_type": "stream",
     "text": [
      "C:\\Users\\rjtdu\\anaconda3\\envs\\geek\\lib\\site-packages\\sklearn\\metrics\\_pairwise_distances_reduction\\_dispatcher.py:277: FutureWarning: WMinkowskiDistance is deprecated in version 1.1 and will be removed in version 1.3. Use MinkowskiDistance instead. Note that in MinkowskiDistance, the weights are applied to the absolute differences raised to the p power. This is different from WMinkowskiDistance where weights are applied to the absolute differences before raising to the p power. The deprecation aims to remain consistent with SciPy 1.8 convention.\n",
      "  return ArgKmin64.compute(\n"
     ]
    },
    {
     "data": {
      "text/plain": [
       "array([0, 0, 0, ..., 0, 0, 0])"
      ]
     },
     "execution_count": 50,
     "metadata": {},
     "output_type": "execute_result"
    }
   ],
   "source": [
    "predictions1 = model1.predict(X_test)\n",
    "predictions1"
   ]
  },
  {
   "cell_type": "code",
   "execution_count": 51,
   "id": "aac788eb-724f-4bc6-8231-a4eb577c31e8",
   "metadata": {
    "tags": []
   },
   "outputs": [
    {
     "data": {
      "text/plain": [
       "15538    0\n",
       "42406    2\n",
       "39363    0\n",
       "74679    0\n",
       "90241    1\n",
       "        ..\n",
       "67811    0\n",
       "92502    2\n",
       "86493    0\n",
       "51923    0\n",
       "7228     0\n",
       "Name: label, Length: 12111, dtype: int32"
      ]
     },
     "execution_count": 51,
     "metadata": {},
     "output_type": "execute_result"
    }
   ],
   "source": [
    "y_test"
   ]
  },
  {
   "cell_type": "code",
   "execution_count": 52,
   "id": "338580dc-c752-442a-bf87-e26b1ba9e82a",
   "metadata": {
    "tags": []
   },
   "outputs": [
    {
     "data": {
      "text/plain": [
       "array([[3518,  466,  901],\n",
       "       [ 180, 3156,   77],\n",
       "       [ 343,  136, 3334]], dtype=int64)"
      ]
     },
     "execution_count": 52,
     "metadata": {},
     "output_type": "execute_result"
    }
   ],
   "source": [
    "cm1 = confusion_matrix(predictions1, y_test)\n",
    "cm1"
   ]
  },
  {
   "cell_type": "code",
   "execution_count": 53,
   "id": "cc7fb3fa-b2ec-40ea-9dc8-121efbe06345",
   "metadata": {
    "tags": []
   },
   "outputs": [
    {
     "data": {
      "image/png": "[encoded data removed]",
      "text/plain": [
       "<Figure size 640x480 with 2 Axes>"
      ]
     },
     "metadata": {},
     "output_type": "display_data"
    }
   ],
   "source": [
    "sns.heatmap(cm1, annot=True, fmt='', cmap= 'coolwarm', cbar=True)\n",
    "plt.xlabel('Predicted Values')\n",
    "plt.ylabel('True Values')\n",
    "plt.title(\"Confusion Matrix - Random Weighted KNN\")\n",
    "plt.savefig(\"Fig5- Random Weighted KNN\")\n",
    "plt.show()"
   ]
  },
  {
   "cell_type": "code",
   "execution_count": 54,
   "id": "4dc94a66-ef64-4cb7-9af9-fb3ab08a0aab",
   "metadata": {
    "tags": []
   },
   "outputs": [
    {
     "name": "stdout",
     "output_type": "stream",
     "text": [
      "              precision    recall  f1-score   support\n",
      "\n",
      "           0       0.72      0.87      0.79      4041\n",
      "           1       0.92      0.84      0.88      3758\n",
      "           2       0.87      0.77      0.82      4312\n",
      "\n",
      "    accuracy                           0.83     12111\n",
      "   macro avg       0.84      0.83      0.83     12111\n",
      "weighted avg       0.84      0.83      0.83     12111\n",
      "\n"
     ]
    }
   ],
   "source": [
    "report1 = classification_report(y_test, predictions1)\n",
    "print(report1)"
   ]
  },
  {
   "cell_type": "code",
   "execution_count": null,
   "id": "f2198c83-f451-48b0-8288-c3edda7c5e6a",
   "metadata": {},
   "outputs": [],
   "source": []
  },
  {
   "cell_type": "markdown",
   "id": "5fbeb03c-5150-4e4a-aeb5-f5ccbd3dab11",
   "metadata": {},
   "source": [
    "Step 12: Repeat again the weighted KNN but provide weights 1<= weights <= 4 to top 4 features that are positively correlated with class variable"
   ]
  },
  {
   "cell_type": "code",
   "execution_count": 55,
   "id": "d927e0a3-07be-46f9-8d84-b3290582734f",
   "metadata": {
    "tags": []
   },
   "outputs": [
    {
     "data": {
      "text/plain": [
       "obj_ID        -0.001549\n",
       "alpha         -0.006594\n",
       "delta          0.002788\n",
       "u              0.006430\n",
       "g              0.006503\n",
       "r              0.000264\n",
       "i             -0.000135\n",
       "z              0.006535\n",
       "run_ID        -0.001549\n",
       "cam_col        0.003704\n",
       "field_ID      -0.001018\n",
       "spec_obj_ID    0.002610\n",
       "redshift       0.003817\n",
       "plate          0.002610\n",
       "MJD            0.001922\n",
       "fiber_ID       0.003020\n",
       "label          1.000000\n",
       "Name: label, dtype: float64"
      ]
     },
     "execution_count": 55,
     "metadata": {},
     "output_type": "execute_result"
    }
   ],
   "source": [
    "correlation_values"
   ]
  },
  {
   "cell_type": "code",
   "execution_count": 56,
   "id": "76bd0688-7c29-46bd-bb85-e6b840e48f70",
   "metadata": {
    "tags": []
   },
   "outputs": [
    {
     "name": "stdout",
     "output_type": "stream",
     "text": [
      "As you can see only 3 features are positively correlated with the class/labels so providing weights 1<=wts <=3\n",
      "[0.15428758 0.13369956 0.36268547 2.         3.         0.25121038\n",
      " 0.75841639 4.         0.51480292 0.46779986 0.087176   0.82909544\n",
      " 1.         0.03134589 0.67800576 0.90348903]\n"
     ]
    }
   ],
   "source": [
    "print(\"As you can see only 3 features are positively correlated with the class/labels so providing weights 1<=wts <=3\")\n",
    "wts1[4] = 3\n",
    "wts1[3] = 2\n",
    "wts1[12] = 1\n",
    "wts1[7] = 4 \n",
    "print(wts1)"
   ]
  },
  {
   "cell_type": "code",
   "execution_count": 57,
   "id": "f02df396-4ebf-4e47-af8b-f77ba07fa2bf",
   "metadata": {
    "tags": []
   },
   "outputs": [],
   "source": [
    "model2 = KNeighborsClassifier( metric ='wminkowski', p = 2, metric_params={'w':wts1})"
   ]
  },
  {
   "cell_type": "code",
   "execution_count": 58,
   "id": "65478962-a9cf-493d-9169-1bb11bad6288",
   "metadata": {
    "tags": []
   },
   "outputs": [
    {
     "data": {
      "text/plain": [
       "{'algorithm': 'auto',\n",
       " 'leaf_size': 30,\n",
       " 'metric': 'wminkowski',\n",
       " 'metric_params': {'w': array([0.15428758, 0.13369956, 0.36268547, 2.        , 3.        ,\n",
       "         0.25121038, 0.75841639, 4.        , 0.51480292, 0.46779986,\n",
       "         0.087176  , 0.82909544, 1.        , 0.03134589, 0.67800576,\n",
       "         0.90348903])},\n",
       " 'n_jobs': None,\n",
       " 'n_neighbors': 5,\n",
       " 'p': 2,\n",
       " 'weights': 'uniform'}"
      ]
     },
     "execution_count": 58,
     "metadata": {},
     "output_type": "execute_result"
    }
   ],
   "source": [
    "model2.get_params()"
   ]
  },
  {
   "cell_type": "code",
   "execution_count": 59,
   "id": "2c3ea000-d5bb-4fdb-b72d-6bf212ca15d5",
   "metadata": {
    "tags": []
   },
   "outputs": [
    {
     "data": {
      "text/html": [
       "<style>#sk-container-id-4 {color: black;background-color: white;}#sk-container-id-4 pre{padding: 0;}#sk-container-id-4 div.sk-toggleable {background-color: white;}#sk-container-id-4 label.sk-toggleable__label {cursor: pointer;display: block;width: 100%;margin-bottom: 0;padding: 0.3em;box-sizing: border-box;text-align: center;}#sk-container-id-4 label.sk-toggleable__label-arrow:before {content: \"▸\";float: left;margin-right: 0.25em;color: #696969;}#sk-container-id-4 label.sk-toggleable__label-arrow:hover:before {color: black;}#sk-container-id-4 div.sk-estimator:hover label.sk-toggleable__label-arrow:before {color: black;}#sk-container-id-4 div.sk-toggleable__content {max-height: 0;max-width: 0;overflow: hidden;text-align: left;background-color: #f0f8ff;}#sk-container-id-4 div.sk-toggleable__content pre {margin: 0.2em;color: black;border-radius: 0.25em;background-color: #f0f8ff;}#sk-container-id-4 input.sk-toggleable__control:checked~div.sk-toggleable__content {max-height: 200px;max-width: 100%;overflow: auto;}#sk-container-id-4 input.sk-toggleable__control:checked~label.sk-toggleable__label-arrow:before {content: \"▾\";}#sk-container-id-4 div.sk-estimator input.sk-toggleable__control:checked~label.sk-toggleable__label {background-color: #d4ebff;}#sk-container-id-4 div.sk-label input.sk-toggleable__control:checked~label.sk-toggleable__label {background-color: #d4ebff;}#sk-container-id-4 input.sk-hidden--visually {border: 0;clip: rect(1px 1px 1px 1px);clip: rect(1px, 1px, 1px, 1px);height: 1px;margin: -1px;overflow: hidden;padding: 0;position: absolute;width: 1px;}#sk-container-id-4 div.sk-estimator {font-family: monospace;background-color: #f0f8ff;border: 1px dotted black;border-radius: 0.25em;box-sizing: border-box;margin-bottom: 0.5em;}#sk-container-id-4 div.sk-estimator:hover {background-color: #d4ebff;}#sk-container-id-4 div.sk-parallel-item::after {content: \"\";width: 100%;border-bottom: 1px solid gray;flex-grow: 1;}#sk-container-id-4 div.sk-label:hover label.sk-toggleable__label {background-color: #d4ebff;}#sk-container-id-4 div.sk-serial::before {content: \"\";position: absolute;border-left: 1px solid gray;box-sizing: border-box;top: 0;bottom: 0;left: 50%;z-index: 0;}#sk-container-id-4 div.sk-serial {display: flex;flex-direction: column;align-items: center;background-color: white;padding-right: 0.2em;padding-left: 0.2em;position: relative;}#sk-container-id-4 div.sk-item {position: relative;z-index: 1;}#sk-container-id-4 div.sk-parallel {display: flex;align-items: stretch;justify-content: center;background-color: white;position: relative;}#sk-container-id-4 div.sk-item::before, #sk-container-id-4 div.sk-parallel-item::before {content: \"\";position: absolute;border-left: 1px solid gray;box-sizing: border-box;top: 0;bottom: 0;left: 50%;z-index: -1;}#sk-container-id-4 div.sk-parallel-item {display: flex;flex-direction: column;z-index: 1;position: relative;background-color: white;}#sk-container-id-4 div.sk-parallel-item:first-child::after {align-self: flex-end;width: 50%;}#sk-container-id-4 div.sk-parallel-item:last-child::after {align-self: flex-start;width: 50%;}#sk-container-id-4 div.sk-parallel-item:only-child::after {width: 0;}#sk-container-id-4 div.sk-dashed-wrapped {border: 1px dashed gray;margin: 0 0.4em 0.5em 0.4em;box-sizing: border-box;padding-bottom: 0.4em;background-color: white;}#sk-container-id-4 div.sk-label label {font-family: monospace;font-weight: bold;display: inline-block;line-height: 1.2em;}#sk-container-id-4 div.sk-label-container {text-align: center;}#sk-container-id-4 div.sk-container {/* jupyter's `normalize.less` sets `[hidden] { display: none; }` but bootstrap.min.css set `[hidden] { display: none !important; }` so we also need the `!important` here to be able to override the default hidden behavior on the sphinx rendered scikit-learn.org. See: https://github.com/scikit-learn/scikit-learn/issues/21755 */display: inline-block !important;position: relative;}#sk-container-id-4 div.sk-text-repr-fallback {display: none;}</style><div id=\"sk-container-id-4\" class=\"sk-top-container\"><div class=\"sk-text-repr-fallback\"><pre>KNeighborsClassifier(metric=&#x27;wminkowski&#x27;,\n",
       "                     metric_params={&#x27;w&#x27;: array([0.15428758, 0.13369956, 0.36268547, 2.        , 3.        ,\n",
       "       0.25121038, 0.75841639, 4.        , 0.51480292, 0.46779986,\n",
       "       0.087176  , 0.82909544, 1.        , 0.03134589, 0.67800576,\n",
       "       0.90348903])})</pre><b>In a Jupyter environment, please rerun this cell to show the HTML representation or trust the notebook. <br />On GitHub, the HTML representation is unable to render, please try loading this page with nbviewer.org.</b></div><div class=\"sk-container\" hidden><div class=\"sk-item\"><div class=\"sk-estimator sk-toggleable\"><input class=\"sk-toggleable__control sk-hidden--visually\" id=\"sk-estimator-id-4\" type=\"checkbox\" checked><label for=\"sk-estimator-id-4\" class=\"sk-toggleable__label sk-toggleable__label-arrow\">KNeighborsClassifier</label><div class=\"sk-toggleable__content\"><pre>KNeighborsClassifier(metric=&#x27;wminkowski&#x27;,\n",
       "                     metric_params={&#x27;w&#x27;: array([0.15428758, 0.13369956, 0.36268547, 2.        , 3.        ,\n",
       "       0.25121038, 0.75841639, 4.        , 0.51480292, 0.46779986,\n",
       "       0.087176  , 0.82909544, 1.        , 0.03134589, 0.67800576,\n",
       "       0.90348903])})</pre></div></div></div></div></div>"
      ],
      "text/plain": [
       "KNeighborsClassifier(metric='wminkowski',\n",
       "                     metric_params={'w': array([0.15428758, 0.13369956, 0.36268547, 2.        , 3.        ,\n",
       "       0.25121038, 0.75841639, 4.        , 0.51480292, 0.46779986,\n",
       "       0.087176  , 0.82909544, 1.        , 0.03134589, 0.67800576,\n",
       "       0.90348903])})"
      ]
     },
     "execution_count": 59,
     "metadata": {},
     "output_type": "execute_result"
    }
   ],
   "source": [
    "model2.fit(X_train,y_train)"
   ]
  },
  {
   "cell_type": "code",
   "execution_count": 60,
   "id": "8c890f79-f70b-4710-94ff-8e67014e2642",
   "metadata": {
    "tags": []
   },
   "outputs": [
    {
     "name": "stderr",
     "output_type": "stream",
     "text": [
      "C:\\Users\\rjtdu\\anaconda3\\envs\\geek\\lib\\site-packages\\sklearn\\metrics\\_pairwise_distances_reduction\\_dispatcher.py:277: FutureWarning: WMinkowskiDistance is deprecated in version 1.1 and will be removed in version 1.3. Use MinkowskiDistance instead. Note that in MinkowskiDistance, the weights are applied to the absolute differences raised to the p power. This is different from WMinkowskiDistance where weights are applied to the absolute differences before raising to the p power. The deprecation aims to remain consistent with SciPy 1.8 convention.\n",
      "  return ArgKmin64.compute(\n"
     ]
    },
    {
     "data": {
      "text/plain": [
       "array([0, 0, 0, ..., 0, 0, 0])"
      ]
     },
     "execution_count": 60,
     "metadata": {},
     "output_type": "execute_result"
    }
   ],
   "source": [
    "predictions2 = model2.predict(X_test)\n",
    "predictions2"
   ]
  },
  {
   "cell_type": "code",
   "execution_count": 61,
   "id": "c35e778c-a3df-41f8-9d83-dda52a2cc241",
   "metadata": {
    "tags": []
   },
   "outputs": [
    {
     "data": {
      "text/plain": [
       "15538    0\n",
       "42406    2\n",
       "39363    0\n",
       "74679    0\n",
       "90241    1\n",
       "        ..\n",
       "67811    0\n",
       "92502    2\n",
       "86493    0\n",
       "51923    0\n",
       "7228     0\n",
       "Name: label, Length: 12111, dtype: int32"
      ]
     },
     "execution_count": 61,
     "metadata": {},
     "output_type": "execute_result"
    }
   ],
   "source": [
    "y_test"
   ]
  },
  {
   "cell_type": "code",
   "execution_count": 62,
   "id": "d079dfba-fcc5-4f86-820a-28ad4168b7f0",
   "metadata": {
    "tags": []
   },
   "outputs": [
    {
     "data": {
      "text/plain": [
       "array([[3722,  391,  295],\n",
       "       [  93, 3324,    0],\n",
       "       [ 226,   43, 4017]], dtype=int64)"
      ]
     },
     "execution_count": 62,
     "metadata": {},
     "output_type": "execute_result"
    }
   ],
   "source": [
    "cm2 = confusion_matrix(predictions2, y_test)\n",
    "cm2"
   ]
  },
  {
   "cell_type": "code",
   "execution_count": 63,
   "id": "c1446202-e873-43a0-b384-99c368e33eb9",
   "metadata": {
    "tags": []
   },
   "outputs": [
    {
     "data": {
      "image/png": "[encoded data removed]",
      "text/plain": [
       "<Figure size 640x480 with 2 Axes>"
      ]
     },
     "metadata": {},
     "output_type": "display_data"
    }
   ],
   "source": [
    "sns.heatmap(cm2, annot=True, fmt='', cmap= 'coolwarm', cbar=True)\n",
    "plt.xlabel('Predicted Values')\n",
    "plt.ylabel('True Values')\n",
    "plt.title(\"Confusion Matrix - Fixed Weighed KNN\")\n",
    "plt.savefig(\"Fig6- Fixed Weighted KNN\")\n",
    "plt.show()"
   ]
  },
  {
   "cell_type": "code",
   "execution_count": 64,
   "id": "4df61d48-3da3-4fa5-93b2-f45c61cbb389",
   "metadata": {
    "tags": []
   },
   "outputs": [
    {
     "name": "stdout",
     "output_type": "stream",
     "text": [
      "              precision    recall  f1-score   support\n",
      "\n",
      "           0       0.84      0.92      0.88      4041\n",
      "           1       0.97      0.88      0.93      3758\n",
      "           2       0.94      0.93      0.93      4312\n",
      "\n",
      "    accuracy                           0.91     12111\n",
      "   macro avg       0.92      0.91      0.91     12111\n",
      "weighted avg       0.92      0.91      0.91     12111\n",
      "\n"
     ]
    }
   ],
   "source": [
    "report2 = classification_report(y_test, predictions2)\n",
    "print(report2)"
   ]
  },
  {
   "cell_type": "code",
   "execution_count": null,
   "id": "27c267ce-4aaf-43ff-86fa-463be078efff",
   "metadata": {},
   "outputs": [],
   "source": []
  },
  {
   "cell_type": "markdown",
   "id": "3acb5406-897e-4934-9bb4-1caf4743a5fa",
   "metadata": {},
   "source": [
    "Step 13: Perform K-fold validation to find the optimum value of (k)."
   ]
  },
  {
   "cell_type": "code",
   "execution_count": 65,
   "id": "cbc61560-b1d0-4fc8-9283-076d070acff7",
   "metadata": {
    "tags": []
   },
   "outputs": [],
   "source": [
    "#Search space for (k) should be between 1 and 30 with a step size of 2\n",
    "#Use the cross_val_score method\n",
    "#K-fold value should be 10 and scoring method should be accuracy"
   ]
  },
  {
   "cell_type": "code",
   "execution_count": 66,
   "id": "8bd593af-fe6c-4466-b5b6-43aad007c330",
   "metadata": {
    "tags": []
   },
   "outputs": [
    {
     "name": "stdout",
     "output_type": "stream",
     "text": [
      "Optimal k value: 5\n"
     ]
    }
   ],
   "source": [
    "from sklearn.model_selection import cross_val_score\n",
    "# Define the range of k values\n",
    "k_values = np.arange(1, 31, step=2)\n",
    "\n",
    "# Create a list to store cross-validation scores for each k\n",
    "cross_val_scores = []\n",
    "\n",
    "# Loop through each k value and perform K-fold cross-validation\n",
    "for k in k_values:\n",
    "    knn = KNeighborsClassifier(n_neighbors=k)  # Create a KNN classifier with k neighbors\n",
    "    scores = cross_val_score(knn, X, y, cv=10, scoring='accuracy')  # Perform K-fold cross-validation\n",
    "    cross_val_scores.append(np.mean(scores))  # Store the average accuracy score\n",
    "\n",
    "# Find the index of the k value with the highest cross-validation score\n",
    "best_k_index = np.argmax(cross_val_scores)\n",
    "best_k = k_values[best_k_index]\n",
    "\n",
    "print(\"Optimal k value:\", best_k)\n"
   ]
  },
  {
   "cell_type": "code",
   "execution_count": 67,
   "id": "786de703-0dc4-4ebe-a4d2-167bc74085cd",
   "metadata": {
    "tags": []
   },
   "outputs": [
    {
     "data": {
      "image/png": "[encoded data removed]",
      "text/plain": [
       "<Figure size 1000x600 with 1 Axes>"
      ]
     },
     "metadata": {},
     "output_type": "display_data"
    }
   ],
   "source": [
    "# Create a plot of accuracy scores vs k values\n",
    "plt.figure(figsize=(10, 6))\n",
    "plt.plot(k_values, cross_val_scores, marker='o')\n",
    "plt.title('Accuracy Scores vs K Values')\n",
    "plt.xlabel('Number of Neighbors (K)')\n",
    "plt.ylabel('Accuracy Score')\n",
    "plt.xticks(k_values)\n",
    "plt.grid(True)\n",
    "\n",
    "# Mark the optimum k value\n",
    "plt.annotate(f'Optimal K = {best_k}', xy=(best_k, cross_val_scores[best_k_index]), xytext=(best_k + 2, cross_val_scores[best_k_index] + 0.01),\n",
    "             arrowprops=dict(facecolor='black', arrowstyle='->'))\n",
    "plt.savefig(\"Fig7- Finding Optimum K\")\n",
    "plt.show()"
   ]
  },
  {
   "cell_type": "markdown",
   "id": "7f4337e0-3c1f-4514-a14c-8b06c7e1a49a",
   "metadata": {
    "tags": []
   },
   "source": [
    "Step 14: Perform KNN classification with optimum (k) value and other parameters 'default'"
   ]
  },
  {
   "cell_type": "code",
   "execution_count": 68,
   "id": "1ec321fb-b2e6-405f-9e3e-848dd844d5e4",
   "metadata": {
    "tags": []
   },
   "outputs": [
    {
     "data": {
      "text/html": [
       "<style>#sk-container-id-5 {color: black;background-color: white;}#sk-container-id-5 pre{padding: 0;}#sk-container-id-5 div.sk-toggleable {background-color: white;}#sk-container-id-5 label.sk-toggleable__label {cursor: pointer;display: block;width: 100%;margin-bottom: 0;padding: 0.3em;box-sizing: border-box;text-align: center;}#sk-container-id-5 label.sk-toggleable__label-arrow:before {content: \"▸\";float: left;margin-right: 0.25em;color: #696969;}#sk-container-id-5 label.sk-toggleable__label-arrow:hover:before {color: black;}#sk-container-id-5 div.sk-estimator:hover label.sk-toggleable__label-arrow:before {color: black;}#sk-container-id-5 div.sk-toggleable__content {max-height: 0;max-width: 0;overflow: hidden;text-align: left;background-color: #f0f8ff;}#sk-container-id-5 div.sk-toggleable__content pre {margin: 0.2em;color: black;border-radius: 0.25em;background-color: #f0f8ff;}#sk-container-id-5 input.sk-toggleable__control:checked~div.sk-toggleable__content {max-height: 200px;max-width: 100%;overflow: auto;}#sk-container-id-5 input.sk-toggleable__control:checked~label.sk-toggleable__label-arrow:before {content: \"▾\";}#sk-container-id-5 div.sk-estimator input.sk-toggleable__control:checked~label.sk-toggleable__label {background-color: #d4ebff;}#sk-container-id-5 div.sk-label input.sk-toggleable__control:checked~label.sk-toggleable__label {background-color: #d4ebff;}#sk-container-id-5 input.sk-hidden--visually {border: 0;clip: rect(1px 1px 1px 1px);clip: rect(1px, 1px, 1px, 1px);height: 1px;margin: -1px;overflow: hidden;padding: 0;position: absolute;width: 1px;}#sk-container-id-5 div.sk-estimator {font-family: monospace;background-color: #f0f8ff;border: 1px dotted black;border-radius: 0.25em;box-sizing: border-box;margin-bottom: 0.5em;}#sk-container-id-5 div.sk-estimator:hover {background-color: #d4ebff;}#sk-container-id-5 div.sk-parallel-item::after {content: \"\";width: 100%;border-bottom: 1px solid gray;flex-grow: 1;}#sk-container-id-5 div.sk-label:hover label.sk-toggleable__label {background-color: #d4ebff;}#sk-container-id-5 div.sk-serial::before {content: \"\";position: absolute;border-left: 1px solid gray;box-sizing: border-box;top: 0;bottom: 0;left: 50%;z-index: 0;}#sk-container-id-5 div.sk-serial {display: flex;flex-direction: column;align-items: center;background-color: white;padding-right: 0.2em;padding-left: 0.2em;position: relative;}#sk-container-id-5 div.sk-item {position: relative;z-index: 1;}#sk-container-id-5 div.sk-parallel {display: flex;align-items: stretch;justify-content: center;background-color: white;position: relative;}#sk-container-id-5 div.sk-item::before, #sk-container-id-5 div.sk-parallel-item::before {content: \"\";position: absolute;border-left: 1px solid gray;box-sizing: border-box;top: 0;bottom: 0;left: 50%;z-index: -1;}#sk-container-id-5 div.sk-parallel-item {display: flex;flex-direction: column;z-index: 1;position: relative;background-color: white;}#sk-container-id-5 div.sk-parallel-item:first-child::after {align-self: flex-end;width: 50%;}#sk-container-id-5 div.sk-parallel-item:last-child::after {align-self: flex-start;width: 50%;}#sk-container-id-5 div.sk-parallel-item:only-child::after {width: 0;}#sk-container-id-5 div.sk-dashed-wrapped {border: 1px dashed gray;margin: 0 0.4em 0.5em 0.4em;box-sizing: border-box;padding-bottom: 0.4em;background-color: white;}#sk-container-id-5 div.sk-label label {font-family: monospace;font-weight: bold;display: inline-block;line-height: 1.2em;}#sk-container-id-5 div.sk-label-container {text-align: center;}#sk-container-id-5 div.sk-container {/* jupyter's `normalize.less` sets `[hidden] { display: none; }` but bootstrap.min.css set `[hidden] { display: none !important; }` so we also need the `!important` here to be able to override the default hidden behavior on the sphinx rendered scikit-learn.org. See: https://github.com/scikit-learn/scikit-learn/issues/21755 */display: inline-block !important;position: relative;}#sk-container-id-5 div.sk-text-repr-fallback {display: none;}</style><div id=\"sk-container-id-5\" class=\"sk-top-container\"><div class=\"sk-text-repr-fallback\"><pre>KNeighborsClassifier()</pre><b>In a Jupyter environment, please rerun this cell to show the HTML representation or trust the notebook. <br />On GitHub, the HTML representation is unable to render, please try loading this page with nbviewer.org.</b></div><div class=\"sk-container\" hidden><div class=\"sk-item\"><div class=\"sk-estimator sk-toggleable\"><input class=\"sk-toggleable__control sk-hidden--visually\" id=\"sk-estimator-id-5\" type=\"checkbox\" checked><label for=\"sk-estimator-id-5\" class=\"sk-toggleable__label sk-toggleable__label-arrow\">KNeighborsClassifier</label><div class=\"sk-toggleable__content\"><pre>KNeighborsClassifier()</pre></div></div></div></div></div>"
      ],
      "text/plain": [
       "KNeighborsClassifier()"
      ]
     },
     "execution_count": 68,
     "metadata": {},
     "output_type": "execute_result"
    }
   ],
   "source": [
    "model_optimum = KNeighborsClassifier(n_neighbors= best_k)\n",
    "model_optimum.fit(X_train, y_train)"
   ]
  },
  {
   "cell_type": "code",
   "execution_count": 69,
   "id": "115ed2b4-0482-463c-9375-a7c3fb05e00f",
   "metadata": {
    "tags": []
   },
   "outputs": [
    {
     "data": {
      "text/plain": [
       "{'algorithm': 'auto',\n",
       " 'leaf_size': 30,\n",
       " 'metric': 'minkowski',\n",
       " 'metric_params': None,\n",
       " 'n_jobs': None,\n",
       " 'n_neighbors': 5,\n",
       " 'p': 2,\n",
       " 'weights': 'uniform'}"
      ]
     },
     "execution_count": 69,
     "metadata": {},
     "output_type": "execute_result"
    }
   ],
   "source": [
    "model_optimum.get_params()"
   ]
  },
  {
   "cell_type": "code",
   "execution_count": 70,
   "id": "def2a8ba-97e2-405b-9483-da7a81023a33",
   "metadata": {
    "tags": []
   },
   "outputs": [
    {
     "data": {
      "text/plain": [
       "array([0, 0, 0, ..., 0, 0, 2])"
      ]
     },
     "execution_count": 70,
     "metadata": {},
     "output_type": "execute_result"
    }
   ],
   "source": [
    "predictions3 = model_optimum.predict(X_test)\n",
    "predictions3"
   ]
  },
  {
   "cell_type": "code",
   "execution_count": 71,
   "id": "aa48a15e-293c-46d0-888f-6eda12247835",
   "metadata": {
    "tags": []
   },
   "outputs": [
    {
     "data": {
      "text/plain": [
       "15538    0\n",
       "42406    2\n",
       "39363    0\n",
       "74679    0\n",
       "90241    1\n",
       "        ..\n",
       "67811    0\n",
       "92502    2\n",
       "86493    0\n",
       "51923    0\n",
       "7228     0\n",
       "Name: label, Length: 12111, dtype: int32"
      ]
     },
     "execution_count": 71,
     "metadata": {},
     "output_type": "execute_result"
    }
   ],
   "source": [
    "y_test"
   ]
  },
  {
   "cell_type": "code",
   "execution_count": 72,
   "id": "3988a0e5-f760-4b09-a5d5-359d1ef49515",
   "metadata": {
    "tags": []
   },
   "outputs": [
    {
     "data": {
      "text/plain": [
       "array([[3612,  465,  598],\n",
       "       [ 127, 3201,   27],\n",
       "       [ 302,   92, 3687]], dtype=int64)"
      ]
     },
     "execution_count": 72,
     "metadata": {},
     "output_type": "execute_result"
    }
   ],
   "source": [
    "cm3 = confusion_matrix(predictions3, y_test)\n",
    "cm3"
   ]
  },
  {
   "cell_type": "code",
   "execution_count": 73,
   "id": "c256a879-3584-4225-8b58-b86051126f38",
   "metadata": {
    "tags": []
   },
   "outputs": [
    {
     "data": {
      "image/png": "[encoded data removed]",
      "text/plain": [
       "<Figure size 640x480 with 2 Axes>"
      ]
     },
     "metadata": {},
     "output_type": "display_data"
    }
   ],
   "source": [
    "sns.heatmap(cm2, annot=True, fmt='', cmap= 'coolwarm', cbar=True)\n",
    "plt.xlabel('Predicted Values')\n",
    "plt.ylabel('True Values')\n",
    "plt.title(f\"Confusion Matrix - Optimum k{best_k}\")\n",
    "plt.savefig(\"Fig8 - Optimum k\")\n",
    "plt.show()"
   ]
  },
  {
   "cell_type": "code",
   "execution_count": 74,
   "id": "5fd8f3dc-ee42-4748-816b-72e9230ffb77",
   "metadata": {
    "tags": []
   },
   "outputs": [
    {
     "name": "stdout",
     "output_type": "stream",
     "text": [
      "              precision    recall  f1-score   support\n",
      "\n",
      "           0       0.77      0.89      0.83      4041\n",
      "           1       0.95      0.85      0.90      3758\n",
      "           2       0.90      0.86      0.88      4312\n",
      "\n",
      "    accuracy                           0.87     12111\n",
      "   macro avg       0.88      0.87      0.87     12111\n",
      "weighted avg       0.88      0.87      0.87     12111\n",
      "\n"
     ]
    }
   ],
   "source": [
    "report3 = classification_report(y_test, predictions3)\n",
    "print(report3)"
   ]
  },
  {
   "cell_type": "markdown",
   "id": "3e5fc457-fa2f-4249-a848-5dcbd06f5778",
   "metadata": {},
   "source": [
    "------------------------------------------------------------------------------------------------------------------------------------------------------------------------------------"
   ]
  },
  {
   "cell_type": "markdown",
   "id": "722c8705-f933-4ee5-b937-1767470efee0",
   "metadata": {},
   "source": [
    "                                                                                    THE END"
   ]
  },
  {
   "cell_type": "markdown",
   "id": "6cda1dfd-5c4e-4d01-a14a-b11f8db4202a",
   "metadata": {
    "tags": []
   },
   "source": [
    "____________________________________________________________________________________________________________________________________________________________________________________"
   ]
  },
  {
   "cell_type": "code",
   "execution_count": null,
   "id": "d56a861e-1d3c-495b-b43a-7925ca76f20d",
   "metadata": {},
   "outputs": [],
   "source": []
  }
 ],
 "metadata": {
  "kernelspec": {
   "display_name": "Python 3 (ipykernel)",
   "language": "python",
   "name": "python3"
  },
  "language_info": {
   "codemirror_mode": {
    "name": "ipython",
    "version": 3
   },
   "file_extension": ".py",
   "mimetype": "text/x-python",
   "name": "python",
   "nbconvert_exporter": "python",
   "pygments_lexer": "ipython3",
   "version": "3.10.9"
  }
 },
 "nbformat": 4,
 "nbformat_minor": 5
}
